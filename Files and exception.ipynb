{
 "cells": [
  {
   "cell_type": "markdown",
   "metadata": {},
   "source": [
    "# Making text file"
   ]
  },
  {
   "cell_type": "code",
   "execution_count": 7,
   "metadata": {},
   "outputs": [],
   "source": [
    "# first way for making txt file is to write as in write mode\n",
    "f = open(\"xyz.txt\",\"w\")\n",
    "f.write(\"hello\")\n",
    "f.close()"
   ]
  },
  {
   "cell_type": "code",
   "execution_count": 8,
   "metadata": {},
   "outputs": [],
   "source": [
    "# second way for making txt file is to write as in write mode\n",
    "with open(\"ab.txt\", \"w\") as l:\n",
    "    l.write(\"LAst\")"
   ]
  },
  {
   "cell_type": "code",
   "execution_count": 15,
   "metadata": {},
   "outputs": [
    {
     "name": "stdout",
     "output_type": "stream",
     "text": [
      "hello\n"
     ]
    }
   ],
   "source": [
    "# second way for making txt file is to read as in write mode\n",
    "with open(\"xyz.txt\") as data: #if we dont pass the mode of write and read it is always in read mode by default\n",
    "    print(data.read()) "
   ]
  },
  {
   "cell_type": "markdown",
   "metadata": {},
   "source": [
    "# CSV File coma saprated file"
   ]
  },
  {
   "cell_type": "code",
   "execution_count": 17,
   "metadata": {},
   "outputs": [],
   "source": [
    "# when we import these files it always come in string type\n",
    "# because it cannot read csv file so we have to import module of these files"
   ]
  },
  {
   "cell_type": "code",
   "execution_count": 19,
   "metadata": {},
   "outputs": [],
   "source": [
    "import csv      #importing modules of csv file"
   ]
  },
  {
   "cell_type": "markdown",
   "metadata": {},
   "source": [
    "# reading csv file\n",
    "### first way of reading data from csv file\n",
    "with open(\"myFile.csv\") as file:\n",
    "    read = csv.reader(file)\n",
    "    for i in read:\n",
    "        print(i)   #every row of a file is a list"
   ]
  },
  {
   "cell_type": "code",
   "execution_count": 29,
   "metadata": {},
   "outputs": [
    {
     "name": "stdout",
     "output_type": "stream",
     "text": [
      "['line 1 of csv file cjsncjsd scjnsdjkcsdz,asdasd\\n', 'line 2 of csv file\\n', 'line 3 of csv file\\n', 'line 4 of csv file\\n', 'line 5 of csv file\\n']\n"
     ]
    }
   ],
   "source": [
    "# second way of reading data from csv file\n",
    "with open(\"myFile.csv\") as file:\n",
    "    read = csv.reader(file)\n",
    "    data = list(file)    # read is an object you cant display it you have to write in a list or using for loop for diplaying data.\n",
    "    print(data)"
   ]
  },
  {
   "cell_type": "code",
   "execution_count": 32,
   "metadata": {},
   "outputs": [
    {
     "name": "stdout",
     "output_type": "stream",
     "text": [
      "[['line 1 of csv file cjsncjsd scjnsdjkcsdz', 'asdasd'], ['line 2 of csv file'], ['line 3 of csv file'], ['line 4 of csv file'], ['line 5 of csv file']]\n"
     ]
    }
   ],
   "source": [
    "# third way of reading data from csv file\n",
    "with open(\"myFile.csv\") as file:\n",
    "    read = csv.reader(file)\n",
    "    data = []    # read is an object you cant display it you have to write in a list or using for loop for diplaying data.\n",
    "    for i in read:\n",
    "        data.append(i)\n",
    "print(data)"
   ]
  },
  {
   "cell_type": "code",
   "execution_count": 35,
   "metadata": {},
   "outputs": [
    {
     "name": "stdout",
     "output_type": "stream",
     "text": [
      "['line 1 of csv file cjsncjsd scjnsdjkcsdz', 'asdasd', 'line 2 of csv file', 'line 3 of csv file', 'line 4 of csv file', 'line 5 of csv file']\n"
     ]
    }
   ],
   "source": [
    "with open(\"myFile.csv\") as file:\n",
    "    read = csv.reader(file)\n",
    "    data1 = []  \n",
    "    for i in read:\n",
    "        data1 += i    #for making all rows in  a single list\n",
    "print(data)"
   ]
  },
  {
   "cell_type": "markdown",
   "metadata": {},
   "source": [
    "# writing csv file"
   ]
  },
  {
   "cell_type": "code",
   "execution_count": 41,
   "metadata": {},
   "outputs": [],
   "source": [
    "with open(\"myFile.csv\", \"w\", newline = \"\") as f:\n",
    "    writing = csv.writer(f, delimiter= \",\")    # froom which character do you want to separete your rows you can define it in the delimmiters.\n",
    "    writing.writerow([\"Year, Event,29202\"])             # now you have to write rows indivudialy with writerow function\n",
    "    writing.writerow([\"Year2, Event2,2002\"])   #its overwriting with our previous data now look under for another way"
   ]
  },
  {
   "cell_type": "code",
   "execution_count": 44,
   "metadata": {},
   "outputs": [
    {
     "name": "stdout",
     "output_type": "stream",
     "text": [
      "['Year, Event,29202']\n",
      "['Year2, Event2,2002']\n"
     ]
    }
   ],
   "source": [
    "# now reading\n",
    "with open(\"myFile.csv\") as file:\n",
    "    read = csv.reader(file)\n",
    "    for i in read:\n",
    "        print(i)"
   ]
  },
  {
   "cell_type": "code",
   "execution_count": 47,
   "metadata": {},
   "outputs": [],
   "source": [
    "with open(\"myFile.csv\", \"a\", newline = \"\") as f:   #if you dont want to over write use \"a\"  instead of \"w\" on line 1\n",
    "    writing = csv.writer(f, delimiter= \",\")    \n",
    "    writing.writerow([\"Year3\", \"Event\",2333])            \n",
    "    writing.writerow([\"Year4\", \"Event2\",23333]) "
   ]
  },
  {
   "cell_type": "code",
   "execution_count": 61,
   "metadata": {},
   "outputs": [
    {
     "name": "stdout",
     "output_type": "stream",
     "text": [
      " Event1\n",
      " Event2\n",
      "Event3\n",
      "Event4\n"
     ]
    }
   ],
   "source": [
    "# now reading\n",
    "with open(\"myFile.csv\") as file:\n",
    "    read = csv.reader(file)\n",
    "    for i in read:    #playing with list options\n",
    "        print(i[1])"
   ]
  },
  {
   "cell_type": "markdown",
   "metadata": {},
   "source": [
    "# Json File"
   ]
  },
  {
   "cell_type": "code",
   "execution_count": 64,
   "metadata": {},
   "outputs": [],
   "source": [
    "import json"
   ]
  },
  {
   "cell_type": "code",
   "execution_count": 65,
   "metadata": {},
   "outputs": [],
   "source": [
    "# writing in json file a list\n",
    "alphabet_letters = [\"a\", \"b\", \"c\"]\n",
    "with open(\"list.json\", 'w') as f:\n",
    "    json.dump(alphabet_letters,f)"
   ]
  },
  {
   "cell_type": "code",
   "execution_count": 73,
   "metadata": {},
   "outputs": [
    {
     "name": "stdout",
     "output_type": "stream",
     "text": [
      "['a', 'b', 'c']\n"
     ]
    }
   ],
   "source": [
    "# reading\n",
    "with open(\"list.json\") as f:\n",
    "       read =  json.load(f)\n",
    "print(read)"
   ]
  },
  {
   "cell_type": "code",
   "execution_count": 74,
   "metadata": {},
   "outputs": [],
   "source": [
    " # writing in json file a dictonary\n",
    "customer_29876 = {\n",
    " \"first name\": \"David\",\n",
    " \"last name\": \"Elliott\",\n",
    " \"address\": \"4803 Wellesley St.\",\n",
    " }\n",
    "with open(\"dict.json\", 'w') as f:\n",
    "    json.dump(customer_29876,f)"
   ]
  },
  {
   "cell_type": "code",
   "execution_count": 75,
   "metadata": {},
   "outputs": [
    {
     "name": "stdout",
     "output_type": "stream",
     "text": [
      "{'first name': 'David', 'last name': 'Elliott', 'address': '4803 Wellesley St.'}\n"
     ]
    }
   ],
   "source": [
    "## reading\n",
    "with open(\"dict.json\") as f:\n",
    "       read =  json.load(f)\n",
    "print(read)"
   ]
  },
  {
   "cell_type": "markdown",
   "metadata": {},
   "source": [
    "# Try and Except"
   ]
  },
  {
   "cell_type": "code",
   "execution_count": 79,
   "metadata": {},
   "outputs": [
    {
     "ename": "FileNotFoundError",
     "evalue": "[Errno 2] No such file or directory: 'aic.csv'",
     "output_type": "error",
     "traceback": [
      "\u001b[1;31m---------------------------------------------------------------------------\u001b[0m",
      "\u001b[1;31mFileNotFoundError\u001b[0m                         Traceback (most recent call last)",
      "\u001b[1;32m<ipython-input-79-f5a13c1da156>\u001b[0m in \u001b[0;36m<module>\u001b[1;34m\u001b[0m\n\u001b[0;32m      1\u001b[0m \u001b[1;31m# opening an unavaliable file\u001b[0m\u001b[1;33m\u001b[0m\u001b[1;33m\u001b[0m\u001b[1;33m\u001b[0m\u001b[0m\n\u001b[1;32m----> 2\u001b[1;33m \u001b[1;32mwith\u001b[0m \u001b[0mopen\u001b[0m\u001b[1;33m(\u001b[0m\u001b[1;34m\"aic.csv\"\u001b[0m\u001b[1;33m)\u001b[0m \u001b[1;32mas\u001b[0m \u001b[0mf\u001b[0m\u001b[1;33m:\u001b[0m\u001b[1;33m\u001b[0m\u001b[1;33m\u001b[0m\u001b[0m\n\u001b[0m\u001b[0;32m      3\u001b[0m     \u001b[0mread\u001b[0m \u001b[1;33m=\u001b[0m \u001b[0mcsv\u001b[0m\u001b[1;33m.\u001b[0m\u001b[0mreader\u001b[0m\u001b[1;33m(\u001b[0m\u001b[0mf\u001b[0m\u001b[1;33m)\u001b[0m\u001b[1;33m\u001b[0m\u001b[1;33m\u001b[0m\u001b[0m\n\u001b[0;32m      4\u001b[0m     \u001b[0mprint\u001b[0m\u001b[1;33m(\u001b[0m\u001b[0mread\u001b[0m\u001b[1;33m)\u001b[0m\u001b[1;33m\u001b[0m\u001b[1;33m\u001b[0m\u001b[0m\n",
      "\u001b[1;31mFileNotFoundError\u001b[0m: [Errno 2] No such file or directory: 'aic.csv'"
     ]
    }
   ],
   "source": [
    "# opening an unavaliable file\n",
    "with open(\"aic.csv\") as f:\n",
    "    read = csv.reader(f)\n",
    "    print(read)"
   ]
  },
  {
   "cell_type": "code",
   "execution_count": 91,
   "metadata": {},
   "outputs": [
    {
     "name": "stdout",
     "output_type": "stream",
     "text": [
      "You cant open an unavalibles file\n"
     ]
    }
   ],
   "source": [
    "try:     #if you know the error in run time define it in exception than it will be displays\n",
    "\n",
    "    with open(\"aic.csv\") as f:\n",
    "        read1 = csv.reader(f)\n",
    "        print(read1)\n",
    "except FileNotFoundError:\n",
    "        print(\"You cant open an unavalibles file\")"
   ]
  },
  {
   "cell_type": "code",
   "execution_count": 94,
   "metadata": {},
   "outputs": [
    {
     "name": "stdout",
     "output_type": "stream",
     "text": [
      "<_csv.reader object at 0x0000026116440278>\n",
      "Something went wrong\n"
     ]
    }
   ],
   "source": [
    "try:         #if you dont know the error in run time define as it in exception than it will be displays like this.\n",
    "    with open(\"myFile.csv\") as f:\n",
    "        read1 = csv.reader(f)\n",
    "        print(read1)\n",
    "        print(int(read1))\n",
    "except FileNotFoundError:\n",
    "        print(\"You cant open an unavalibles file\")\n",
    "except Exception as e:\n",
    "    print(\"Something went wrong\")"
   ]
  },
  {
   "cell_type": "code",
   "execution_count": 99,
   "metadata": {},
   "outputs": [
    {
     "name": "stdout",
     "output_type": "stream",
     "text": [
      "Something went wrong\n",
      "alo\n"
     ]
    }
   ],
   "source": [
    "try:     # when except runs else dont run,,,and when except dont run else runs\n",
    "    a = 5/0\n",
    "except FileNotFoundError:\n",
    "        print(\"You cant open an unavalibles file\")\n",
    "except Exception as e:\n",
    "    print(\"Something went wrong\")\n",
    "else:\n",
    "    print(a)  \n",
    "finally:   # this argument always run if there is an error and if not it also run isko frk ni prta\n",
    "    print(\"alo\")"
   ]
  },
  {
   "cell_type": "code",
   "execution_count": 119,
   "metadata": {},
   "outputs": [
    {
     "ename": "IndentationError",
     "evalue": "unindent does not match any outer indentation level (<tokenize>, line 7)",
     "output_type": "error",
     "traceback": [
      "\u001b[1;36m  File \u001b[1;32m\"<tokenize>\"\u001b[1;36m, line \u001b[1;32m7\u001b[0m\n\u001b[1;33m    except FileNotFoundError:\u001b[0m\n\u001b[1;37m    ^\u001b[0m\n\u001b[1;31mIndentationError\u001b[0m\u001b[1;31m:\u001b[0m unindent does not match any outer indentation level\n"
     ]
    }
   ],
   "source": [
    "while True:\n",
    "         try:\n",
    "                 filename = input(\"What text file to open? \")\n",
    "                     with open(filename) as f:\n",
    "                            print(f.read())\n",
    "                            break\n",
    "        except FileNotFoundError:\n",
    "                 print(\"Sorry, \" + filename + \" not found.\")"
   ]
  },
  {
   "cell_type": "code",
   "execution_count": null,
   "metadata": {},
   "outputs": [],
   "source": []
  },
  {
   "cell_type": "code",
   "execution_count": null,
   "metadata": {},
   "outputs": [],
   "source": []
  }
 ],
 "metadata": {
  "kernelspec": {
   "display_name": "Python 3",
   "language": "python",
   "name": "python3"
  },
  "language_info": {
   "codemirror_mode": {
    "name": "ipython",
    "version": 3
   },
   "file_extension": ".py",
   "mimetype": "text/x-python",
   "name": "python",
   "nbconvert_exporter": "python",
   "pygments_lexer": "ipython3",
   "version": "3.7.4"
  }
 },
 "nbformat": 4,
 "nbformat_minor": 2
}
