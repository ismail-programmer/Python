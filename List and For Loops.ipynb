{
 "cells": [
  {
   "cell_type": "code",
   "execution_count": 2,
   "metadata": {},
   "outputs": [],
   "source": [
    "names = [ \"ismail\", \"Ali\", \"Bilal\",\"Daryaab\", \"Amir\" ]"
   ]
  },
  {
   "cell_type": "code",
   "execution_count": 3,
   "metadata": {},
   "outputs": [],
   "source": [
    "marks = [20, 21, 21,43,34,]"
   ]
  },
  {
   "cell_type": "code",
   "execution_count": 4,
   "metadata": {},
   "outputs": [
    {
     "ename": "NameError",
     "evalue": "name 'length' is not defined",
     "output_type": "error",
     "traceback": [
      "\u001b[1;31m---------------------------------------------------------------------------\u001b[0m",
      "\u001b[1;31mNameError\u001b[0m                                 Traceback (most recent call last)",
      "\u001b[1;32m<ipython-input-4-968b3f32e59c>\u001b[0m in \u001b[0;36m<module>\u001b[1;34m\u001b[0m\n\u001b[1;32m----> 1\u001b[1;33m \u001b[0mlength\u001b[0m\u001b[1;33m(\u001b[0m\u001b[0mnames\u001b[0m\u001b[1;33m)\u001b[0m\u001b[1;33m\u001b[0m\u001b[1;33m\u001b[0m\u001b[0m\n\u001b[0m",
      "\u001b[1;31mNameError\u001b[0m: name 'length' is not defined"
     ]
    }
   ],
   "source": [
    "length(names)"
   ]
  },
  {
   "cell_type": "code",
   "execution_count": 5,
   "metadata": {},
   "outputs": [
    {
     "ename": "SyntaxError",
     "evalue": "invalid syntax (<ipython-input-5-6fb992650966>, line 1)",
     "output_type": "error",
     "traceback": [
      "\u001b[1;36m  File \u001b[1;32m\"<ipython-input-5-6fb992650966>\"\u001b[1;36m, line \u001b[1;32m1\u001b[0m\n\u001b[1;33m    for(i = 0; i <= 5; i++){\u001b[0m\n\u001b[1;37m          ^\u001b[0m\n\u001b[1;31mSyntaxError\u001b[0m\u001b[1;31m:\u001b[0m invalid syntax\n"
     ]
    }
   ],
   "source": [
    "for(i = 0; i <= 5; i++){\n",
    "    names[i]\n",
    "    marks[i]\n",
    "}"
   ]
  },
  {
   "cell_type": "code",
   "execution_count": 6,
   "metadata": {},
   "outputs": [
    {
     "data": {
      "text/plain": [
       "'ismail'"
      ]
     },
     "execution_count": 6,
     "metadata": {},
     "output_type": "execute_result"
    }
   ],
   "source": [
    "names[0]"
   ]
  },
  {
   "cell_type": "code",
   "execution_count": 7,
   "metadata": {},
   "outputs": [
    {
     "data": {
      "text/plain": [
       "'Daryaab'"
      ]
     },
     "execution_count": 7,
     "metadata": {},
     "output_type": "execute_result"
    }
   ],
   "source": [
    "names[3]"
   ]
  },
  {
   "cell_type": "code",
   "execution_count": 1,
   "metadata": {},
   "outputs": [
    {
     "ename": "NameError",
     "evalue": "name 'names' is not defined",
     "output_type": "error",
     "traceback": [
      "\u001b[1;31m---------------------------------------------------------------------------\u001b[0m",
      "\u001b[1;31mNameError\u001b[0m                                 Traceback (most recent call last)",
      "\u001b[1;32m<ipython-input-1-c8beb69a2cd4>\u001b[0m in \u001b[0;36m<module>\u001b[1;34m\u001b[0m\n\u001b[1;32m----> 1\u001b[1;33m \u001b[0mnames\u001b[0m\u001b[1;33m\u001b[0m\u001b[1;33m\u001b[0m\u001b[0m\n\u001b[0m",
      "\u001b[1;31mNameError\u001b[0m: name 'names' is not defined"
     ]
    }
   ],
   "source": [
    "names"
   ]
  },
  {
   "cell_type": "code",
   "execution_count": 2,
   "metadata": {},
   "outputs": [
    {
     "ename": "NameError",
     "evalue": "name 'names' is not defined",
     "output_type": "error",
     "traceback": [
      "\u001b[1;31m---------------------------------------------------------------------------\u001b[0m",
      "\u001b[1;31mNameError\u001b[0m                                 Traceback (most recent call last)",
      "\u001b[1;32m<ipython-input-2-49d1f1a1e1a0>\u001b[0m in \u001b[0;36m<module>\u001b[1;34m\u001b[0m\n\u001b[1;32m----> 1\u001b[1;33m \u001b[0mprint\u001b[0m\u001b[1;33m(\u001b[0m\u001b[0mnames\u001b[0m\u001b[1;33m)\u001b[0m\u001b[1;33m\u001b[0m\u001b[1;33m\u001b[0m\u001b[0m\n\u001b[0m",
      "\u001b[1;31mNameError\u001b[0m: name 'names' is not defined"
     ]
    }
   ],
   "source": [
    "print(names)"
   ]
  },
  {
   "cell_type": "code",
   "execution_count": 3,
   "metadata": {},
   "outputs": [
    {
     "ename": "NameError",
     "evalue": "name 'names' is not defined",
     "output_type": "error",
     "traceback": [
      "\u001b[1;31m---------------------------------------------------------------------------\u001b[0m",
      "\u001b[1;31mNameError\u001b[0m                                 Traceback (most recent call last)",
      "\u001b[1;32m<ipython-input-3-c8beb69a2cd4>\u001b[0m in \u001b[0;36m<module>\u001b[1;34m\u001b[0m\n\u001b[1;32m----> 1\u001b[1;33m \u001b[0mnames\u001b[0m\u001b[1;33m\u001b[0m\u001b[1;33m\u001b[0m\u001b[0m\n\u001b[0m",
      "\u001b[1;31mNameError\u001b[0m: name 'names' is not defined"
     ]
    }
   ],
   "source": [
    "names"
   ]
  },
  {
   "cell_type": "markdown",
   "metadata": {},
   "source": [
    "# class of 26/1/20"
   ]
  },
  {
   "cell_type": "markdown",
   "metadata": {},
   "source": [
    "# list has of two types of indexing.\n",
    "## positive indexing which starts from ' 0 '\n",
    "## negative indexing which starts from ' -1 '"
   ]
  },
  {
   "cell_type": "markdown",
   "metadata": {},
   "source": [
    "## list is hetrogeenus(different types of data) and orderd. and can be determindes by square or box brackets \" [] \""
   ]
  },
  {
   "cell_type": "markdown",
   "metadata": {},
   "source": [
    "## \" .append() \" is a function for pushing data in lists on the end"
   ]
  },
  {
   "cell_type": "markdown",
   "metadata": {},
   "source": [
    "## their is apossibilty that any thing have both index of \"0\", \" -1 \" if there is only 1 element in list."
   ]
  },
  {
   "cell_type": "code",
   "execution_count": 4,
   "metadata": {},
   "outputs": [],
   "source": [
    "employe1 = [\"ismail\", 22, 2122200]"
   ]
  },
  {
   "cell_type": "markdown",
   "metadata": {},
   "source": [
    "# slicing\n",
    "## parameter for slicing first one is from where you start the slicing and 2nd parameter is that where you end +1."
   ]
  },
  {
   "cell_type": "code",
   "execution_count": 6,
   "metadata": {},
   "outputs": [
    {
     "data": {
      "text/plain": [
       "[22, 2122200]"
      ]
     },
     "execution_count": 6,
     "metadata": {},
     "output_type": "execute_result"
    }
   ],
   "source": [
    "employe1[1:3]"
   ]
  },
  {
   "cell_type": "code",
   "execution_count": 15,
   "metadata": {},
   "outputs": [
    {
     "data": {
      "text/plain": [
       "['ismail', 22, 2122200]"
      ]
     },
     "execution_count": 15,
     "metadata": {},
     "output_type": "execute_result"
    }
   ],
   "source": [
    "employe1[-3:]"
   ]
  },
  {
   "cell_type": "code",
   "execution_count": 16,
   "metadata": {},
   "outputs": [
    {
     "data": {
      "text/plain": [
       "['ismail', 22, 2122200]"
      ]
     },
     "execution_count": 16,
     "metadata": {},
     "output_type": "execute_result"
    }
   ],
   "source": [
    "employe1[:]"
   ]
  },
  {
   "cell_type": "code",
   "execution_count": 17,
   "metadata": {},
   "outputs": [
    {
     "data": {
      "text/plain": [
       "['ismail', 22, 2122200]"
      ]
     },
     "execution_count": 17,
     "metadata": {},
     "output_type": "execute_result"
    }
   ],
   "source": [
    "employe1[:3]"
   ]
  },
  {
   "cell_type": "markdown",
   "metadata": {},
   "source": [
    "## insert method\n",
    "## parameter for inserting first one is from where you wanna  insert and 2nd parameter is that what you have to insert."
   ]
  },
  {
   "cell_type": "code",
   "execution_count": 23,
   "metadata": {},
   "outputs": [],
   "source": [
    "employe1.insert(1,\"Web-devolper\")"
   ]
  },
  {
   "cell_type": "code",
   "execution_count": 19,
   "metadata": {},
   "outputs": [
    {
     "data": {
      "text/plain": [
       "['ismail', 'Web0devolper', 22, 2122200]"
      ]
     },
     "execution_count": 19,
     "metadata": {},
     "output_type": "execute_result"
    }
   ],
   "source": [
    "employe1"
   ]
  },
  {
   "cell_type": "code",
   "execution_count": 21,
   "metadata": {},
   "outputs": [
    {
     "data": {
      "text/plain": [
       "['ismail', 'Web-devolper', 'Web0devolper', 22, 2122200]"
      ]
     },
     "execution_count": 21,
     "metadata": {},
     "output_type": "execute_result"
    }
   ],
   "source": [
    "employe1"
   ]
  },
  {
   "cell_type": "code",
   "execution_count": 28,
   "metadata": {},
   "outputs": [],
   "source": [
    "employe1[0] = \"Muhammad Ismail\"     #replacing an entry from list by equalizing it with the new value by calling it from index"
   ]
  },
  {
   "cell_type": "code",
   "execution_count": 27,
   "metadata": {},
   "outputs": [
    {
     "data": {
      "text/plain": [
       "'Muhammad Ismail'"
      ]
     },
     "execution_count": 27,
     "metadata": {},
     "output_type": "execute_result"
    }
   ],
   "source": [
    "employe1[0]"
   ]
  },
  {
   "cell_type": "code",
   "execution_count": 29,
   "metadata": {},
   "outputs": [
    {
     "data": {
      "text/plain": [
       "['Muhammad Ismail',\n",
       " 'Web-devolper',\n",
       " 'Web-devolper',\n",
       " 'Web0devolper',\n",
       " 22,\n",
       " 2122200]"
      ]
     },
     "execution_count": 29,
     "metadata": {},
     "output_type": "execute_result"
    }
   ],
   "source": [
    "employe1"
   ]
  },
  {
   "cell_type": "code",
   "execution_count": 32,
   "metadata": {},
   "outputs": [],
   "source": [
    "del employe1[3]         #1st way for deleting use the keyword of 'del' and than cal the list  and give the entitiy index which you wanna delete"
   ]
  },
  {
   "cell_type": "code",
   "execution_count": 33,
   "metadata": {},
   "outputs": [
    {
     "data": {
      "text/plain": [
       "['Muhammad Ismail', 'Web-devolper', 'Web-devolper', 2122200]"
      ]
     },
     "execution_count": 33,
     "metadata": {},
     "output_type": "execute_result"
    }
   ],
   "source": [
    "employe1"
   ]
  },
  {
   "cell_type": "code",
   "execution_count": 34,
   "metadata": {},
   "outputs": [],
   "source": [
    "employe1.remove('Web-devolper')    #2nd way for deleting use the method of 'remove' and  call the list  and give the full entity  which you wanna delete"
   ]
  },
  {
   "cell_type": "code",
   "execution_count": 35,
   "metadata": {},
   "outputs": [
    {
     "data": {
      "text/plain": [
       "['Muhammad Ismail', 'Web-devolper', 2122200]"
      ]
     },
     "execution_count": 35,
     "metadata": {},
     "output_type": "execute_result"
    }
   ],
   "source": [
    "employe1"
   ]
  },
  {
   "cell_type": "code",
   "execution_count": 39,
   "metadata": {},
   "outputs": [
    {
     "data": {
      "text/plain": [
       "2"
      ]
     },
     "execution_count": 39,
     "metadata": {},
     "output_type": "execute_result"
    }
   ],
   "source": [
    "employe1.index(2122200)    # for getting index of any element in list"
   ]
  },
  {
   "cell_type": "code",
   "execution_count": 58,
   "metadata": {},
   "outputs": [
    {
     "data": {
      "text/plain": [
       "'Web0devolper'"
      ]
     },
     "execution_count": 58,
     "metadata": {},
     "output_type": "execute_result"
    }
   ],
   "source": [
    "employe1.pop(1)     # for deleting an entity from the end of list use pop method or we can also delete an entity from specific index by giving the list name and index"
   ]
  },
  {
   "cell_type": "code",
   "execution_count": 41,
   "metadata": {},
   "outputs": [
    {
     "data": {
      "text/plain": [
       "['Muhammad Ismail', 2122200]"
      ]
     },
     "execution_count": 41,
     "metadata": {},
     "output_type": "execute_result"
    }
   ],
   "source": [
    "employe1"
   ]
  },
  {
   "cell_type": "code",
   "execution_count": 42,
   "metadata": {},
   "outputs": [
    {
     "data": {
      "text/plain": [
       "2122200"
      ]
     },
     "execution_count": 42,
     "metadata": {},
     "output_type": "execute_result"
    }
   ],
   "source": [
    "employe1.pop()"
   ]
  },
  {
   "cell_type": "code",
   "execution_count": 43,
   "metadata": {},
   "outputs": [
    {
     "ename": "AttributeError",
     "evalue": "'list' object has no attribute 'push'",
     "output_type": "error",
     "traceback": [
      "\u001b[1;31m---------------------------------------------------------------------------\u001b[0m",
      "\u001b[1;31mAttributeError\u001b[0m                            Traceback (most recent call last)",
      "\u001b[1;32m<ipython-input-43-2f6cf1a0ac34>\u001b[0m in \u001b[0;36m<module>\u001b[1;34m\u001b[0m\n\u001b[1;32m----> 1\u001b[1;33m \u001b[0memploye1\u001b[0m\u001b[1;33m.\u001b[0m\u001b[0mpush\u001b[0m\u001b[1;33m(\u001b[0m\u001b[1;34m\"Web devolper\"\u001b[0m\u001b[1;33m)\u001b[0m\u001b[1;33m\u001b[0m\u001b[1;33m\u001b[0m\u001b[0m\n\u001b[0m",
      "\u001b[1;31mAttributeError\u001b[0m: 'list' object has no attribute 'push'"
     ]
    }
   ],
   "source": [
    "employe1.push(\"Web devolper\")"
   ]
  },
  {
   "cell_type": "code",
   "execution_count": 44,
   "metadata": {},
   "outputs": [],
   "source": [
    "employe1 = ['Muhammad Ismail',\n",
    " 'Web-devolper',\n",
    " 'Web-devolper',\n",
    " 'Web0devolper',\n",
    " 22,\n",
    " 2122200]"
   ]
  },
  {
   "cell_type": "code",
   "execution_count": 45,
   "metadata": {},
   "outputs": [
    {
     "data": {
      "text/plain": [
       "['Muhammad Ismail',\n",
       " 'Web-devolper',\n",
       " 'Web-devolper',\n",
       " 'Web0devolper',\n",
       " 22,\n",
       " 2122200]"
      ]
     },
     "execution_count": 45,
     "metadata": {},
     "output_type": "execute_result"
    }
   ],
   "source": [
    "employe1"
   ]
  },
  {
   "cell_type": "code",
   "execution_count": 46,
   "metadata": {},
   "outputs": [],
   "source": [
    "employe2 = employe1.pop()"
   ]
  },
  {
   "cell_type": "code",
   "execution_count": 47,
   "metadata": {},
   "outputs": [
    {
     "data": {
      "text/plain": [
       "2122200"
      ]
     },
     "execution_count": 47,
     "metadata": {},
     "output_type": "execute_result"
    }
   ],
   "source": [
    "employe2"
   ]
  },
  {
   "cell_type": "code",
   "execution_count": 54,
   "metadata": {},
   "outputs": [],
   "source": [
    "employe2 = employe1.pop(-3)"
   ]
  },
  {
   "cell_type": "code",
   "execution_count": 55,
   "metadata": {},
   "outputs": [
    {
     "data": {
      "text/plain": [
       "'Muhammad Ismail'"
      ]
     },
     "execution_count": 55,
     "metadata": {},
     "output_type": "execute_result"
    }
   ],
   "source": [
    "employe2"
   ]
  },
  {
   "cell_type": "code",
   "execution_count": 56,
   "metadata": {},
   "outputs": [],
   "source": [
    "employe1.append(employe2)"
   ]
  },
  {
   "cell_type": "code",
   "execution_count": null,
   "metadata": {},
   "outputs": [],
   "source": []
  },
  {
   "cell_type": "code",
   "execution_count": 71,
   "metadata": {},
   "outputs": [
    {
     "data": {
      "text/plain": [
       "['Web-devolper', 'Muhammad Ismail', 21232, 21232]"
      ]
     },
     "execution_count": 71,
     "metadata": {},
     "output_type": "execute_result"
    }
   ],
   "source": [
    "employe1.insert(2,21232)\n",
    "employe1"
   ]
  },
  {
   "cell_type": "code",
   "execution_count": 91,
   "metadata": {},
   "outputs": [],
   "source": [
    "employes = [employe1, [\"Ali\", 23, 2323, \"Male\"],[\"Ali\", 23, 2323, \"Male\"],[\"Ali\", 23, 2323, \"Male\"],[\"Ali\", 23, 2323, \"Male\"],[\"Ali\", 23, 2323, \"Male\"],[\"Ali\", 23, 2323, \"Male\"],[\"Ali\", 23, 2323, \"Male\"],[\"Ali\", 23, 2323, \"Male\"],[\"Ali\", 23, 2323, \"Male\"],[\"Ali\", 23, 2323, \"Male\"],[\"Ali\", 23, 2323, \"Male\"],[\"Ali\", 23, 2323, \"Male\"],[\"Ali\", 23, 2323, \"Male\"],[\"Ali\", 23, 2323, \"Male\"],[\"Ali\", 23, 2323, \"Male\"],[\"Ali\", 23, 2323, \"Male\"],[\"Ali\", 23, 2323, \"Male\"],[\"Ali\", 23, 2323, \"Male\"],[\"Ali\", 23, 2323, \"Male\"],[\"Ali\", 23, 2323, \"Male\"],[\"Ali\", 23, 2323, \"Male\"],[\"Ali\", 23, 2323, \"Male\"],[\"Ali\", 23, 2323, \"Male\"],[\"Ali\", 23, 2323, \"Male\"],[\"Ali\", 23, 2323, \"Male\"],[\"Ali\", 23, 2323, \"Male\"],[\"Ali\", 23, 2323, \"Male\"],[\"Ali\", 23, 2323, \"Male\"],[\"Ali\", 23, 2323, \"Male\"],[\"Ali\", 23, 2323, \"Male\"],[\"Ali\", 23, 2323, \"Male\"],[\"Ali\", 23, 2323, \"Male\"],[\"Ali\", 23, 2323, \"Male\"],[\"Ali\", 23, 2323, \"Male\"],[\"Ali\", 23, 2323, \"Male\"],[\"Ali\", 23, 2323, \"Male\"],[\"Ali\", 23, 2323, \"Male\"],[\"Ali\", 23, 2323, \"Male\"],[\"Ali\", 23, 2323, \"Male\"],[\"Ali\", 23, 2323, \"Male\"],[\"Ali\", 23, 2323, \"Male\"],[\"Ali\", 23, 2323, \"Male\"],[\"Ali\", 23, 2323, \"Male\"],[\"Ali\", 23, 2323, \"Male\"],[\"Ali\", 23, 2323, \"Male\"],[\"Ali\", 23, 2323, \"Male\"],[\"Ali\", 23, 2323, \"Male\"],[\"Ali\", 23, 2323, \"Male\"],[\"Ali\", 23, 2323, \"Male\"],[\"Ali\", 23, 2323, \"Male\"],[\"Ali\", 23, 2323, \"Male\"],[\"Ali\", 23, 2323, \"Male\"],[\"Ali\", 23, 2323, \"Male\"],[\"Ali\", 23, 2323, \"Male\"],[\"Ali\", 23, 2323, \"Male\"],[\"Ali\", 23, 2323, \"Male\"],[\"Ali\", 23, 2323, \"Male\"],[\"Ali\", 23, 2323, \"Male\"],[\"Ali\", 23, 2323, \"Male\"],[\"Ali\", 23, 2323, \"Male\"],[\"Ali\", 23, 2323, \"Male\"],[\"Ali\", 23, 2323, \"Male\"],[\"Ali\", 23, 2323, \"Male\"],[\"Ali\", 23, 2323, \"Male\"],[\"Ali\", 23, 2323, \"Male\"],[\"Ali\", 23, 2323, \"Male\"],[\"Ali\", 23, 2323, \"Male\"],[\"Ali\", 23, 2323, \"Male\"],[\"Ali\", 23, 2323, \"Male\"],[\"Ali\", 23, 2323, \"Male\"],[\"Ali\", 23, 2323, \"Male\"],[\"Ali\", 23, 2323, \"Male\"],[\"Ali\", 23, 2323, \"Male\"],[\"Ali\", 23, 2323, \"Male\"],[\"Ali\", 23, 2323, \"Male\"],[\"Ali\", 23, 2323, \"Male\"],[\"Ali\", 23, 2323, \"Male\"],[\"Ali\", 23, 2323, \"Male\"],[\"Ali\", 23, 2323, \"Male\"],[\"Ali\", 23, 2323, \"Male\"],[\"Ali\", 23, 2323, \"Male\"],[\"Ali\", 23, 2323, \"Male\"],[\"Ali\", 23, 2323, \"Male\"],[\"Ali\", 23, 2323, \"Male\"],[\"Ali\", 23, 2323, \"Male\"],[\"Ali\", 23, 2323, \"Male\"],[\"Ali\", 23, 2323, \"Male\"],[\"Ali\", 23, 2323, \"Male\"],[\"Ali\", 23, 2323, \"Male\"],[\"Ali\", 23, 2323, \"Male\"],[\"Ali\", 23, 2323, \"Male\"],[\"Ali\", 23, 2323, \"Male\"],[\"Ali\", 23, 2323, \"Male\"],[\"Ali\", 23, 2323, \"Male\"],[\"Ali\", 23, 2323, \"Male\"],[\"Ali\", 23, 2323, \"Male\"],[\"Ali\", 23, 2323, \"Male\"],[\"Ali\", 23, 2323, \"Male\"],[\"Ali\", 23, 2323, \"Male\"],[\"Ali\", 23, 2323, \"Male\"],[\"Ali\", 23, 2323, \"Male\"],[\"Ali\", 23, 2323, \"Male\"],[\"Ali\", 23, 2323, \"Male\"],[\"Ali\", 23, 2323, \"Male\"],[\"Ali\", 23, 2323, \"Male\"],[\"Ali\", 23, 2323, \"Male\"],[\"Ali\", 23, 2323, \"Male\"],[\"Ali\", 23, 2323, \"Male\"],[\"Ali\", 23, 2323, \"Male\"],[\"Ali\", 23, 2323, \"Male\"],[\"Ali\", 23, 2323, \"Male\"],[\"Ali\", 23, 2323, \"Male\"],[\"Ali\", 23, 2323, \"Male\"],[\"Ali\", 23, 2323, \"Male\"],[\"Ali\", 23, 2323, \"Male\"],[\"Ali\", 23, 2323, \"Male\"],[\"Ali\", 23, 2323, \"Male\"],[\"Ali\", 23, 2323, \"Male\"],[\"Ali\", 23, 2323, \"Male\"],[\"Ali\", 23, 2323, \"Male\"],[\"Ali\", 23, 2323, \"Male\"],[\"Ali\", 23, 2323, \"Male\"],[\"Ali\", 23, 2323, \"Male\"],[\"Ali\", 23, 2323, \"Male\"],[\"Ali\", 23, 2323, \"Male\"],[\"Ali\", 23, 2323, \"Male\"],[\"Ali\", 23, 2323, \"Male\"],[\"Ali\", 23, 2323, \"Male\"],[\"Ali\", 23, 2323, \"Male\"],[\"Ali\", 23, 2323, \"Male\"],[\"Ali\", 23, 2323, \"Male\"],[\"Ali\", 23, 2323, \"Male\"],[\"Ali\", 23, 2323, \"Male\"],[\"Ali\", 23, 2323, \"Male\"],[\"Ali\", 23, 2323, \"Male\"],[\"Ali\", 23, 2323, \"Male\"],[\"Ali\", 23, 2323, \"Male\"],[\"Ali\", 23, 2323, \"Male\"],[\"Ali\", 23, 2323, \"Male\"],[\"Ali\", 23, 2323, \"Male\"],[\"Ali\", 23, 2323, \"Male\"],[\"Ali\", 23, 2323, \"Male\"],[\"Ali\", 23, 2323, \"Male\"],[\"Ali\", 23, 2323, \"Male\"],[\"Ali\", 23, 2323, \"Male\"],[\"Ali\", 23, 2323, \"Male\"],[\"Ali\", 23, 2323, \"Male\"],[\"Ali\", 23, 2323, \"Male\"],[\"Ali\", 23, 2323, \"Male\"],[\"Ali\", 23, 2323, \"Male\"],[\"Ali\", 23, 2323, \"Male\"],[\"Ali\", 23, 2323, \"Male\"],[\"Ali\", 23, 2323, \"Male\"],[\"Ali\", 23, 2323, \"Male\"],[\"Ali\", 23, 2323, \"Male\"],[\"Ali\", 23, 2323, \"Male\"],[\"Ali\", 23, 2323, \"Male\"],[\"Ali\", 23, 2323, \"Male\"],[\"Ali\", 23, 2323, \"Male\"],[\"Ali\", 23, 2323, \"Male\"],[\"Ali\", 23, 2323, \"Male\"],[\"Ali\", 23, 2323, \"Male\"],[\"Ali\", 23, 2323, \"Male\"],[\"Ali\", 23, 2323, \"Male\"],[\"Ali\", 23, 2323, \"Male\"],[\"Ali\", 23, 2323, \"Male\"],[\"Ali\", 23, 2323, \"Male\"],[\"Ali\", 23, 2323, \"Male\"],[\"Ali\", 23, 2323, \"Male\"],[\"Ali\", 23, 2323, \"Male\"],[\"Ali\", 23, 2323, \"Male\"],[\"Ali\", 23, 2323, \"Male\"],[\"Ali\", 23, 2323, \"Male\"],[\"Ali\", 23, 2323, \"Male\"],[\"Ali\", 23, 2323, \"Male\"],[\"Ali\", 23, 2323, \"Male\"],[\"Ali\", 23, 2323, \"Male\"],[\"Ali\", 23, 2323, \"Male\"],[\"Ali\", 23, 2323, \"Male\"],[\"Ali\", 23, 2323, \"Male\"],[\"Ali\", 23, 2323, \"Male\"],[\"Ali\", 23, 2323, \"Male\"],[\"Ali\", 23, 2323, \"Male\"],[\"Ali\", 23, 2323, \"Male\"],[\"Ali\", 23, 2323, \"Male\"],[\"Ali\", 23, 2323, \"Male\"],[\"Ali\", 23, 2323, \"Male\"],[\"Ali\", 23, 2323, \"Male\"],[\"Ali\", 23, 2323, \"Male\"],[\"Ali\", 23, 2323, \"Male\"],[\"Ali\", 23, 2323, \"Male\"],[\"Ali\", 23, 2323, \"Male\"],[\"Ali\", 23, 2323, \"Male\"],[\"Ali\", 23, 2323, \"Male\"],[\"Ali\", 23, 2323, \"Male\"],[\"Ali\", 23, 2323, \"Male\"],[\"Ali\", 23, 2323, \"Male\"],[\"Ali\", 23, 2323, \"Male\"],[\"Ali\", 23, 2323, \"Male\"],[\"Ali\", 23, 2323, \"Male\"],[\"Ali\", 23, 2323, \"Male\"],[\"Ali\", 23, 2323, \"Male\"],[\"Ali\", 23, 2323, \"Male\"],[\"Ali\", 23, 2323, \"Male\"],[\"Ali\", 23, 2323, \"Male\"],[\"Ali\", 23, 2323, \"Male\"],[\"Ali\", 23, 2323, \"Male\"],[\"Ali\", 23, 2323, \"Male\"],[\"Ali\", 23, 2323, \"Male\"],[\"Ali\", 23, 2323, \"Male\"],[\"Ali\", 23, 2323, \"Male\"],[\"Ali\", 23, 2323, \"Male\"],[\"Ali\", 23, 2323, \"Male\"],[\"Ali\", 23, 2323, \"Male\"],[\"Ali\", 23, 2323, \"Male\"],[\"Ali\", 23, 2323, \"Male\"],[\"Ali\", 23, 2323, \"Male\"],[\"Ali\", 23, 2323, \"Male\"],[\"Ali\", 23, 2323, \"Male\"],[\"Ali\", 23, 2323, \"Male\"],[\"Ali\", 23, 2323, \"Male\"],[\"Ali\", 23, 2323, \"Male\"],[\"Ali\", 23, 2323, \"Male\"],[\"Ali\", 23, 2323, \"Male\"],[\"Ali\", 23, 2323, \"Male\"],[\"Ali\", 23, 2323, \"Male\"],[\"Ali\", 23, 2323, \"Male\"],[\"Ali\", 23, 2323, \"Male\"],[\"Ali\", 23, 2323, \"Male\"],[\"Ali\", 23, 2323, \"Male\"],[\"Ali\", 23, 2323, \"Male\"],[\"Ali\", 23, 2323, \"Male\"],[\"Ali\", 23, 2323, \"Male\"],[\"Ali\", 23, 2323, \"Male\"],[\"Ali\", 23, 2323, \"Male\"],[\"Ali\", 23, 2323, \"Male\"],[\"Ali\", 23, 2323, \"Male\"],[\"Ali\", 23, 2323, \"Male\"],[\"Ali\", 23, 2323, \"Male\"],[\"Ali\", 23, 2323, \"Male\"],[\"Ali\", 23, 2323, \"Male\"],[\"Ali\", 23, 2323, \"Male\"],[\"Ali\", 23, 2323, \"Male\"],[\"Ali\", 23, 2323, \"Male\"],[\"Ali\", 23, 2323, \"Male\"],[\"Ali\", 23, 2323, \"Male\"],[\"Ali\", 23, 2323, \"Male\"],[\"Ali\", 23, 2323, \"Male\"],[\"Ali\", 23, 2323, \"Male\"],[\"Ali\", 23, 2323, \"Male\"],[\"Ali\", 23, 2323, \"Male\"],[\"Ali\", 23, 2323, \"Male\"], ]                "
   ]
  },
  {
   "cell_type": "code",
   "execution_count": 92,
   "metadata": {},
   "outputs": [
    {
     "name": "stdout",
     "output_type": "stream",
     "text": [
      "[['Web-devolper', 'Muhammad Ismail', 21232, 21232], ['Ali', 23, 2323, 'Male'], ['Ali', 23, 2323, 'Male'], ['Ali', 23, 2323, 'Male'], ['Ali', 23, 2323, 'Male'], ['Ali', 23, 2323, 'Male'], ['Ali', 23, 2323, 'Male'], ['Ali', 23, 2323, 'Male'], ['Ali', 23, 2323, 'Male'], ['Ali', 23, 2323, 'Male'], ['Ali', 23, 2323, 'Male'], ['Ali', 23, 2323, 'Male'], ['Ali', 23, 2323, 'Male'], ['Ali', 23, 2323, 'Male'], ['Ali', 23, 2323, 'Male'], ['Ali', 23, 2323, 'Male'], ['Ali', 23, 2323, 'Male'], ['Ali', 23, 2323, 'Male'], ['Ali', 23, 2323, 'Male'], ['Ali', 23, 2323, 'Male'], ['Ali', 23, 2323, 'Male'], ['Ali', 23, 2323, 'Male'], ['Ali', 23, 2323, 'Male'], ['Ali', 23, 2323, 'Male'], ['Ali', 23, 2323, 'Male'], ['Ali', 23, 2323, 'Male'], ['Ali', 23, 2323, 'Male'], ['Ali', 23, 2323, 'Male'], ['Ali', 23, 2323, 'Male'], ['Ali', 23, 2323, 'Male'], ['Ali', 23, 2323, 'Male'], ['Ali', 23, 2323, 'Male'], ['Ali', 23, 2323, 'Male'], ['Ali', 23, 2323, 'Male'], ['Ali', 23, 2323, 'Male'], ['Ali', 23, 2323, 'Male'], ['Ali', 23, 2323, 'Male'], ['Ali', 23, 2323, 'Male'], ['Ali', 23, 2323, 'Male'], ['Ali', 23, 2323, 'Male'], ['Ali', 23, 2323, 'Male'], ['Ali', 23, 2323, 'Male'], ['Ali', 23, 2323, 'Male'], ['Ali', 23, 2323, 'Male'], ['Ali', 23, 2323, 'Male'], ['Ali', 23, 2323, 'Male'], ['Ali', 23, 2323, 'Male'], ['Ali', 23, 2323, 'Male'], ['Ali', 23, 2323, 'Male'], ['Ali', 23, 2323, 'Male'], ['Ali', 23, 2323, 'Male'], ['Ali', 23, 2323, 'Male'], ['Ali', 23, 2323, 'Male'], ['Ali', 23, 2323, 'Male'], ['Ali', 23, 2323, 'Male'], ['Ali', 23, 2323, 'Male'], ['Ali', 23, 2323, 'Male'], ['Ali', 23, 2323, 'Male'], ['Ali', 23, 2323, 'Male'], ['Ali', 23, 2323, 'Male'], ['Ali', 23, 2323, 'Male'], ['Ali', 23, 2323, 'Male'], ['Ali', 23, 2323, 'Male'], ['Ali', 23, 2323, 'Male'], ['Ali', 23, 2323, 'Male'], ['Ali', 23, 2323, 'Male'], ['Ali', 23, 2323, 'Male'], ['Ali', 23, 2323, 'Male'], ['Ali', 23, 2323, 'Male'], ['Ali', 23, 2323, 'Male'], ['Ali', 23, 2323, 'Male'], ['Ali', 23, 2323, 'Male'], ['Ali', 23, 2323, 'Male'], ['Ali', 23, 2323, 'Male'], ['Ali', 23, 2323, 'Male'], ['Ali', 23, 2323, 'Male'], ['Ali', 23, 2323, 'Male'], ['Ali', 23, 2323, 'Male'], ['Ali', 23, 2323, 'Male'], ['Ali', 23, 2323, 'Male'], ['Ali', 23, 2323, 'Male'], ['Ali', 23, 2323, 'Male'], ['Ali', 23, 2323, 'Male'], ['Ali', 23, 2323, 'Male'], ['Ali', 23, 2323, 'Male'], ['Ali', 23, 2323, 'Male'], ['Ali', 23, 2323, 'Male'], ['Ali', 23, 2323, 'Male'], ['Ali', 23, 2323, 'Male'], ['Ali', 23, 2323, 'Male'], ['Ali', 23, 2323, 'Male'], ['Ali', 23, 2323, 'Male'], ['Ali', 23, 2323, 'Male'], ['Ali', 23, 2323, 'Male'], ['Ali', 23, 2323, 'Male'], ['Ali', 23, 2323, 'Male'], ['Ali', 23, 2323, 'Male'], ['Ali', 23, 2323, 'Male'], ['Ali', 23, 2323, 'Male'], ['Ali', 23, 2323, 'Male'], ['Ali', 23, 2323, 'Male'], ['Ali', 23, 2323, 'Male'], ['Ali', 23, 2323, 'Male'], ['Ali', 23, 2323, 'Male'], ['Ali', 23, 2323, 'Male'], ['Ali', 23, 2323, 'Male'], ['Ali', 23, 2323, 'Male'], ['Ali', 23, 2323, 'Male'], ['Ali', 23, 2323, 'Male'], ['Ali', 23, 2323, 'Male'], ['Ali', 23, 2323, 'Male'], ['Ali', 23, 2323, 'Male'], ['Ali', 23, 2323, 'Male'], ['Ali', 23, 2323, 'Male'], ['Ali', 23, 2323, 'Male'], ['Ali', 23, 2323, 'Male'], ['Ali', 23, 2323, 'Male'], ['Ali', 23, 2323, 'Male'], ['Ali', 23, 2323, 'Male'], ['Ali', 23, 2323, 'Male'], ['Ali', 23, 2323, 'Male'], ['Ali', 23, 2323, 'Male'], ['Ali', 23, 2323, 'Male'], ['Ali', 23, 2323, 'Male'], ['Ali', 23, 2323, 'Male'], ['Ali', 23, 2323, 'Male'], ['Ali', 23, 2323, 'Male'], ['Ali', 23, 2323, 'Male'], ['Ali', 23, 2323, 'Male'], ['Ali', 23, 2323, 'Male'], ['Ali', 23, 2323, 'Male'], ['Ali', 23, 2323, 'Male'], ['Ali', 23, 2323, 'Male'], ['Ali', 23, 2323, 'Male'], ['Ali', 23, 2323, 'Male'], ['Ali', 23, 2323, 'Male'], ['Ali', 23, 2323, 'Male'], ['Ali', 23, 2323, 'Male'], ['Ali', 23, 2323, 'Male'], ['Ali', 23, 2323, 'Male'], ['Ali', 23, 2323, 'Male'], ['Ali', 23, 2323, 'Male'], ['Ali', 23, 2323, 'Male'], ['Ali', 23, 2323, 'Male'], ['Ali', 23, 2323, 'Male'], ['Ali', 23, 2323, 'Male'], ['Ali', 23, 2323, 'Male'], ['Ali', 23, 2323, 'Male'], ['Ali', 23, 2323, 'Male'], ['Ali', 23, 2323, 'Male'], ['Ali', 23, 2323, 'Male'], ['Ali', 23, 2323, 'Male'], ['Ali', 23, 2323, 'Male'], ['Ali', 23, 2323, 'Male'], ['Ali', 23, 2323, 'Male'], ['Ali', 23, 2323, 'Male'], ['Ali', 23, 2323, 'Male'], ['Ali', 23, 2323, 'Male'], ['Ali', 23, 2323, 'Male'], ['Ali', 23, 2323, 'Male'], ['Ali', 23, 2323, 'Male'], ['Ali', 23, 2323, 'Male'], ['Ali', 23, 2323, 'Male'], ['Ali', 23, 2323, 'Male'], ['Ali', 23, 2323, 'Male'], ['Ali', 23, 2323, 'Male'], ['Ali', 23, 2323, 'Male'], ['Ali', 23, 2323, 'Male'], ['Ali', 23, 2323, 'Male'], ['Ali', 23, 2323, 'Male'], ['Ali', 23, 2323, 'Male'], ['Ali', 23, 2323, 'Male'], ['Ali', 23, 2323, 'Male'], ['Ali', 23, 2323, 'Male'], ['Ali', 23, 2323, 'Male'], ['Ali', 23, 2323, 'Male'], ['Ali', 23, 2323, 'Male'], ['Ali', 23, 2323, 'Male'], ['Ali', 23, 2323, 'Male'], ['Ali', 23, 2323, 'Male'], ['Ali', 23, 2323, 'Male'], ['Ali', 23, 2323, 'Male'], ['Ali', 23, 2323, 'Male'], ['Ali', 23, 2323, 'Male'], ['Ali', 23, 2323, 'Male'], ['Ali', 23, 2323, 'Male'], ['Ali', 23, 2323, 'Male'], ['Ali', 23, 2323, 'Male'], ['Ali', 23, 2323, 'Male'], ['Ali', 23, 2323, 'Male'], ['Ali', 23, 2323, 'Male'], ['Ali', 23, 2323, 'Male'], ['Ali', 23, 2323, 'Male'], ['Ali', 23, 2323, 'Male'], ['Ali', 23, 2323, 'Male'], ['Ali', 23, 2323, 'Male'], ['Ali', 23, 2323, 'Male'], ['Ali', 23, 2323, 'Male'], ['Ali', 23, 2323, 'Male'], ['Ali', 23, 2323, 'Male'], ['Ali', 23, 2323, 'Male'], ['Ali', 23, 2323, 'Male'], ['Ali', 23, 2323, 'Male'], ['Ali', 23, 2323, 'Male'], ['Ali', 23, 2323, 'Male'], ['Ali', 23, 2323, 'Male'], ['Ali', 23, 2323, 'Male'], ['Ali', 23, 2323, 'Male'], ['Ali', 23, 2323, 'Male'], ['Ali', 23, 2323, 'Male'], ['Ali', 23, 2323, 'Male'], ['Ali', 23, 2323, 'Male'], ['Ali', 23, 2323, 'Male'], ['Ali', 23, 2323, 'Male'], ['Ali', 23, 2323, 'Male'], ['Ali', 23, 2323, 'Male'], ['Ali', 23, 2323, 'Male'], ['Ali', 23, 2323, 'Male'], ['Ali', 23, 2323, 'Male'], ['Ali', 23, 2323, 'Male'], ['Ali', 23, 2323, 'Male'], ['Ali', 23, 2323, 'Male'], ['Ali', 23, 2323, 'Male'], ['Ali', 23, 2323, 'Male'], ['Ali', 23, 2323, 'Male'], ['Ali', 23, 2323, 'Male'], ['Ali', 23, 2323, 'Male'], ['Ali', 23, 2323, 'Male'], ['Ali', 23, 2323, 'Male'], ['Ali', 23, 2323, 'Male'], ['Ali', 23, 2323, 'Male'], ['Ali', 23, 2323, 'Male'], ['Ali', 23, 2323, 'Male'], ['Ali', 23, 2323, 'Male'], ['Ali', 23, 2323, 'Male'], ['Ali', 23, 2323, 'Male'], ['Ali', 23, 2323, 'Male'], ['Ali', 23, 2323, 'Male'], ['Ali', 23, 2323, 'Male'], ['Ali', 23, 2323, 'Male'], ['Ali', 23, 2323, 'Male'], ['Ali', 23, 2323, 'Male'], ['Ali', 23, 2323, 'Male'], ['Ali', 23, 2323, 'Male'], ['Ali', 23, 2323, 'Male'], ['Ali', 23, 2323, 'Male'], ['Ali', 23, 2323, 'Male'], ['Ali', 23, 2323, 'Male'], ['Ali', 23, 2323, 'Male'], ['Ali', 23, 2323, 'Male'], ['Ali', 23, 2323, 'Male'], ['Ali', 23, 2323, 'Male'], ['Ali', 23, 2323, 'Male']]\n"
     ]
    }
   ],
   "source": [
    "print(employes)"
   ]
  },
  {
   "cell_type": "code",
   "execution_count": 63,
   "metadata": {},
   "outputs": [],
   "source": [
    "a =  employes[2]"
   ]
  },
  {
   "cell_type": "code",
   "execution_count": 64,
   "metadata": {},
   "outputs": [
    {
     "data": {
      "text/plain": [
       "['Ali', 23, 2323, 'Male']"
      ]
     },
     "execution_count": 64,
     "metadata": {},
     "output_type": "execute_result"
    }
   ],
   "source": [
    "a"
   ]
  },
  {
   "cell_type": "code",
   "execution_count": 65,
   "metadata": {},
   "outputs": [
    {
     "data": {
      "text/plain": [
       "2323"
      ]
     },
     "execution_count": 65,
     "metadata": {},
     "output_type": "execute_result"
    }
   ],
   "source": [
    "a[2]"
   ]
  },
  {
   "cell_type": "code",
   "execution_count": 68,
   "metadata": {},
   "outputs": [
    {
     "data": {
      "text/plain": [
       "25"
      ]
     },
     "execution_count": 68,
     "metadata": {},
     "output_type": "execute_result"
    }
   ],
   "source": [
    "len(employes) # for geting length of list entities"
   ]
  },
  {
   "cell_type": "code",
   "execution_count": 86,
   "metadata": {},
   "outputs": [],
   "source": [
    "total_salalry = employes[0][2]+employes[1][2]+employes[2][2]+employes[3][2]+employes[4][2]+employes[5][2] # it is time consuming so we cant do that"
   ]
  },
  {
   "cell_type": "code",
   "execution_count": 93,
   "metadata": {},
   "outputs": [],
   "source": [
    "total_salalry = 0"
   ]
  },
  {
   "cell_type": "markdown",
   "metadata": {},
   "source": [
    "# For loops"
   ]
  },
  {
   "cell_type": "code",
   "execution_count": 142,
   "metadata": {},
   "outputs": [],
   "source": [
    "for i in employes:\n",
    "    salary = i[2]\n",
    "    total_salalry += salary\n",
    "    "
   ]
  },
  {
   "cell_type": "code",
   "execution_count": 143,
   "metadata": {},
   "outputs": [
    {
     "data": {
      "text/plain": [
       "3033140"
      ]
     },
     "execution_count": 143,
     "metadata": {},
     "output_type": "execute_result"
    }
   ],
   "source": [
    "total_salalry"
   ]
  },
  {
   "cell_type": "code",
   "execution_count": 169,
   "metadata": {},
   "outputs": [],
   "source": [
    "salaryWithName = []\n",
    "for i in employes:\n",
    "           salaryWithName.append([i[0],i[2]])\n",
    "            "
   ]
  },
  {
   "cell_type": "markdown",
   "metadata": {},
   "source": [
    "# spaces much matter in for loop and of else "
   ]
  },
  {
   "cell_type": "code",
   "execution_count": 165,
   "metadata": {},
   "outputs": [],
   "source": [
    "salary_gr = 0     #for loop with if statement    \n",
    "for i in a:\n",
    "    salary = i[2]\n",
    "    if salary >= 200:\n",
    "            salary_gr += salary"
   ]
  },
  {
   "cell_type": "code",
   "execution_count": null,
   "metadata": {},
   "outputs": [],
   "source": []
  },
  {
   "cell_type": "code",
   "execution_count": 166,
   "metadata": {},
   "outputs": [
    {
     "data": {
      "text/plain": [
       "4646"
      ]
     },
     "execution_count": 166,
     "metadata": {},
     "output_type": "execute_result"
    }
   ],
   "source": [
    "salary_gr"
   ]
  },
  {
   "cell_type": "code",
   "execution_count": 170,
   "metadata": {},
   "outputs": [
    {
     "data": {
      "text/plain": [
       "[['Web-devolper', 21232],\n",
       " ['Ali', 2323],\n",
       " ['Ali', 2323],\n",
       " ['Ali', 2323],\n",
       " ['Ali', 2323],\n",
       " ['Ali', 2323],\n",
       " ['Ali', 2323],\n",
       " ['Ali', 2323],\n",
       " ['Ali', 2323],\n",
       " ['Ali', 2323],\n",
       " ['Ali', 2323],\n",
       " ['Ali', 2323],\n",
       " ['Ali', 2323],\n",
       " ['Ali', 2323],\n",
       " ['Ali', 2323],\n",
       " ['Ali', 2323],\n",
       " ['Ali', 2323],\n",
       " ['Ali', 2323],\n",
       " ['Ali', 2323],\n",
       " ['Ali', 2323],\n",
       " ['Ali', 2323],\n",
       " ['Ali', 2323],\n",
       " ['Ali', 2323],\n",
       " ['Ali', 2323],\n",
       " ['Ali', 2323],\n",
       " ['Ali', 2323],\n",
       " ['Ali', 2323],\n",
       " ['Ali', 2323],\n",
       " ['Ali', 2323],\n",
       " ['Ali', 2323],\n",
       " ['Ali', 2323],\n",
       " ['Ali', 2323],\n",
       " ['Ali', 2323],\n",
       " ['Ali', 2323],\n",
       " ['Ali', 2323],\n",
       " ['Ali', 2323],\n",
       " ['Ali', 2323],\n",
       " ['Ali', 2323],\n",
       " ['Ali', 2323],\n",
       " ['Ali', 2323],\n",
       " ['Ali', 2323],\n",
       " ['Ali', 2323],\n",
       " ['Ali', 2323],\n",
       " ['Ali', 2323],\n",
       " ['Ali', 2323],\n",
       " ['Ali', 2323],\n",
       " ['Ali', 2323],\n",
       " ['Ali', 2323],\n",
       " ['Ali', 2323],\n",
       " ['Ali', 2323],\n",
       " ['Ali', 2323],\n",
       " ['Ali', 2323],\n",
       " ['Ali', 2323],\n",
       " ['Ali', 2323],\n",
       " ['Ali', 2323],\n",
       " ['Ali', 2323],\n",
       " ['Ali', 2323],\n",
       " ['Ali', 2323],\n",
       " ['Ali', 2323],\n",
       " ['Ali', 2323],\n",
       " ['Ali', 2323],\n",
       " ['Ali', 2323],\n",
       " ['Ali', 2323],\n",
       " ['Ali', 2323],\n",
       " ['Ali', 2323],\n",
       " ['Ali', 2323],\n",
       " ['Ali', 2323],\n",
       " ['Ali', 2323],\n",
       " ['Ali', 2323],\n",
       " ['Ali', 2323],\n",
       " ['Ali', 2323],\n",
       " ['Ali', 2323],\n",
       " ['Ali', 2323],\n",
       " ['Ali', 2323],\n",
       " ['Ali', 2323],\n",
       " ['Ali', 2323],\n",
       " ['Ali', 2323],\n",
       " ['Ali', 2323],\n",
       " ['Ali', 2323],\n",
       " ['Ali', 2323],\n",
       " ['Ali', 2323],\n",
       " ['Ali', 2323],\n",
       " ['Ali', 2323],\n",
       " ['Ali', 2323],\n",
       " ['Ali', 2323],\n",
       " ['Ali', 2323],\n",
       " ['Ali', 2323],\n",
       " ['Ali', 2323],\n",
       " ['Ali', 2323],\n",
       " ['Ali', 2323],\n",
       " ['Ali', 2323],\n",
       " ['Ali', 2323],\n",
       " ['Ali', 2323],\n",
       " ['Ali', 2323],\n",
       " ['Ali', 2323],\n",
       " ['Ali', 2323],\n",
       " ['Ali', 2323],\n",
       " ['Ali', 2323],\n",
       " ['Ali', 2323],\n",
       " ['Ali', 2323],\n",
       " ['Ali', 2323],\n",
       " ['Ali', 2323],\n",
       " ['Ali', 2323],\n",
       " ['Ali', 2323],\n",
       " ['Ali', 2323],\n",
       " ['Ali', 2323],\n",
       " ['Ali', 2323],\n",
       " ['Ali', 2323],\n",
       " ['Ali', 2323],\n",
       " ['Ali', 2323],\n",
       " ['Ali', 2323],\n",
       " ['Ali', 2323],\n",
       " ['Ali', 2323],\n",
       " ['Ali', 2323],\n",
       " ['Ali', 2323],\n",
       " ['Ali', 2323],\n",
       " ['Ali', 2323],\n",
       " ['Ali', 2323],\n",
       " ['Ali', 2323],\n",
       " ['Ali', 2323],\n",
       " ['Ali', 2323],\n",
       " ['Ali', 2323],\n",
       " ['Ali', 2323],\n",
       " ['Ali', 2323],\n",
       " ['Ali', 2323],\n",
       " ['Ali', 2323],\n",
       " ['Ali', 2323],\n",
       " ['Ali', 2323],\n",
       " ['Ali', 2323],\n",
       " ['Ali', 2323],\n",
       " ['Ali', 2323],\n",
       " ['Ali', 2323],\n",
       " ['Ali', 2323],\n",
       " ['Ali', 2323],\n",
       " ['Ali', 2323],\n",
       " ['Ali', 2323],\n",
       " ['Ali', 2323],\n",
       " ['Ali', 2323],\n",
       " ['Ali', 2323],\n",
       " ['Ali', 2323],\n",
       " ['Ali', 2323],\n",
       " ['Ali', 2323],\n",
       " ['Ali', 2323],\n",
       " ['Ali', 2323],\n",
       " ['Ali', 2323],\n",
       " ['Ali', 2323],\n",
       " ['Ali', 2323],\n",
       " ['Ali', 2323],\n",
       " ['Ali', 2323],\n",
       " ['Ali', 2323],\n",
       " ['Ali', 2323],\n",
       " ['Ali', 2323],\n",
       " ['Ali', 2323],\n",
       " ['Ali', 2323],\n",
       " ['Ali', 2323],\n",
       " ['Ali', 2323],\n",
       " ['Ali', 2323],\n",
       " ['Ali', 2323],\n",
       " ['Ali', 2323],\n",
       " ['Ali', 2323],\n",
       " ['Ali', 2323],\n",
       " ['Ali', 2323],\n",
       " ['Ali', 2323],\n",
       " ['Ali', 2323],\n",
       " ['Ali', 2323],\n",
       " ['Ali', 2323],\n",
       " ['Ali', 2323],\n",
       " ['Ali', 2323],\n",
       " ['Ali', 2323],\n",
       " ['Ali', 2323],\n",
       " ['Ali', 2323],\n",
       " ['Ali', 2323],\n",
       " ['Ali', 2323],\n",
       " ['Ali', 2323],\n",
       " ['Ali', 2323],\n",
       " ['Ali', 2323],\n",
       " ['Ali', 2323],\n",
       " ['Ali', 2323],\n",
       " ['Ali', 2323],\n",
       " ['Ali', 2323],\n",
       " ['Ali', 2323],\n",
       " ['Ali', 2323],\n",
       " ['Ali', 2323],\n",
       " ['Ali', 2323],\n",
       " ['Ali', 2323],\n",
       " ['Ali', 2323],\n",
       " ['Ali', 2323],\n",
       " ['Ali', 2323],\n",
       " ['Ali', 2323],\n",
       " ['Ali', 2323],\n",
       " ['Ali', 2323],\n",
       " ['Ali', 2323],\n",
       " ['Ali', 2323],\n",
       " ['Ali', 2323],\n",
       " ['Ali', 2323],\n",
       " ['Ali', 2323],\n",
       " ['Ali', 2323],\n",
       " ['Ali', 2323],\n",
       " ['Ali', 2323],\n",
       " ['Ali', 2323],\n",
       " ['Ali', 2323],\n",
       " ['Ali', 2323],\n",
       " ['Ali', 2323],\n",
       " ['Ali', 2323],\n",
       " ['Ali', 2323],\n",
       " ['Ali', 2323],\n",
       " ['Ali', 2323],\n",
       " ['Ali', 2323],\n",
       " ['Ali', 2323],\n",
       " ['Ali', 2323],\n",
       " ['Ali', 2323],\n",
       " ['Ali', 2323],\n",
       " ['Ali', 2323],\n",
       " ['Ali', 2323],\n",
       " ['Ali', 2323],\n",
       " ['Ali', 2323],\n",
       " ['Ali', 2323],\n",
       " ['Ali', 2323],\n",
       " ['Ali', 2323],\n",
       " ['Ali', 2323],\n",
       " ['Ali', 2323],\n",
       " ['Ali', 2323],\n",
       " ['Ali', 2323],\n",
       " ['Ali', 2323],\n",
       " ['Ali', 2323],\n",
       " ['Ali', 2323],\n",
       " ['Ali', 2323],\n",
       " ['Ali', 2323],\n",
       " ['Ali', 2323],\n",
       " ['Ali', 2323],\n",
       " ['Ali', 2323],\n",
       " ['Ali', 2323],\n",
       " ['Ali', 2323],\n",
       " ['Ali', 2323],\n",
       " ['Ali', 2323],\n",
       " ['Ali', 2323],\n",
       " ['Ali', 2323],\n",
       " ['Ali', 2323],\n",
       " ['Ali', 2323],\n",
       " ['Ali', 2323],\n",
       " ['Ali', 2323],\n",
       " ['Ali', 2323],\n",
       " ['Ali', 2323],\n",
       " ['Ali', 2323],\n",
       " ['Ali', 2323],\n",
       " ['Ali', 2323],\n",
       " ['Ali', 2323],\n",
       " ['Ali', 2323],\n",
       " ['Ali', 2323],\n",
       " ['Ali', 2323],\n",
       " ['Ali', 2323],\n",
       " ['Ali', 2323],\n",
       " ['Ali', 2323]]"
      ]
     },
     "execution_count": 170,
     "metadata": {},
     "output_type": "execute_result"
    }
   ],
   "source": [
    "salaryWithName"
   ]
  },
  {
   "cell_type": "code",
   "execution_count": 189,
   "metadata": {},
   "outputs": [
    {
     "name": "stdout",
     "output_type": "stream",
     "text": [
      "login\n"
     ]
    }
   ],
   "source": [
    "username = \"ismail\"  # if and else staments\n",
    "password = \"123\"\n",
    "if username == \"ismail\":\n",
    "    if password == \"123\":\n",
    "        print(\"login\")\n",
    "    else:\n",
    "        print(\"pass wrong\")\n",
    "else:\n",
    "    print(\"invalid\")"
   ]
  },
  {
   "cell_type": "code",
   "execution_count": 195,
   "metadata": {},
   "outputs": [],
   "source": [
    "marks = 100"
   ]
  },
  {
   "cell_type": "code",
   "execution_count": 196,
   "metadata": {},
   "outputs": [
    {
     "name": "stdout",
     "output_type": "stream",
     "text": [
      "A grade\n"
     ]
    }
   ],
   "source": [
    "if marks > 90:    # else if statement\n",
    "    print(\"A grade\")\n",
    "    \n",
    "elif marks > 80:\n",
    "    print(\"b Grade\")\n",
    "        \n",
    "elif marks > 65:\n",
    "    print(\"c Grade\")\n",
    "    \n",
    "else:\n",
    "    print(\"failed\")"
   ]
  },
  {
   "cell_type": "markdown",
   "metadata": {},
   "source": [
    "# if else ma ya else if ma line ka nicha line likhni ha spaces zada ya kam hon ge to error a jaen ga"
   ]
  },
  {
   "cell_type": "code",
   "execution_count": 197,
   "metadata": {},
   "outputs": [
    {
     "ename": "AttributeError",
     "evalue": "'list' object has no attribute 'contain__'",
     "output_type": "error",
     "traceback": [
      "\u001b[1;31m---------------------------------------------------------------------------\u001b[0m",
      "\u001b[1;31mAttributeError\u001b[0m                            Traceback (most recent call last)",
      "\u001b[1;32m<ipython-input-197-afd57e5dd88f>\u001b[0m in \u001b[0;36m<module>\u001b[1;34m\u001b[0m\n\u001b[1;32m----> 1\u001b[1;33m \u001b[0ma\u001b[0m\u001b[1;33m.\u001b[0m\u001b[0mcontain__\u001b[0m\u001b[1;33m(\u001b[0m\u001b[1;34m\"Ali\"\u001b[0m\u001b[1;33m)\u001b[0m\u001b[1;33m\u001b[0m\u001b[1;33m\u001b[0m\u001b[0m\n\u001b[0m",
      "\u001b[1;31mAttributeError\u001b[0m: 'list' object has no attribute 'contain__'"
     ]
    }
   ],
   "source": [
    "a.contain__(\"Ali\")"
   ]
  },
  {
   "cell_type": "code",
   "execution_count": null,
   "metadata": {},
   "outputs": [],
   "source": []
  }
 ],
 "metadata": {
  "kernelspec": {
   "display_name": "Python 3",
   "language": "python",
   "name": "python3"
  },
  "language_info": {
   "codemirror_mode": {
    "name": "ipython",
    "version": 3
   },
   "file_extension": ".py",
   "mimetype": "text/x-python",
   "name": "python",
   "nbconvert_exporter": "python",
   "pygments_lexer": "ipython3",
   "version": "3.7.4"
  }
 },
 "nbformat": 4,
 "nbformat_minor": 2
}
