{
 "cells": [
  {
   "cell_type": "markdown",
   "metadata": {},
   "source": [
    "##  Task\n",
    "### Playing with Dictionary"
   ]
  },
  {
   "cell_type": "code",
   "execution_count": 1,
   "metadata": {},
   "outputs": [
    {
     "name": "stdout",
     "output_type": "stream",
     "text": [
      "Enter Your Name ismail\n",
      "Enter Your Age 20\n",
      "Enter Your Work busiines\n",
      "Enter Your Skilss separted by comma html,cs,java'\n",
      "Enter Your Degree Title ics\n",
      "Enter Your Degree Major computer\n",
      "Enter Your Degree comletion Date 2019\n",
      "Enter Your Salary 2000\n"
     ]
    },
    {
     "data": {
      "text/plain": [
       "[{'name': 'ismail',\n",
       "  'age': '20',\n",
       "  'work': 'busiines',\n",
       "  'skills': [\"html,cs,java'\"],\n",
       "  'degree': {'title': 'ics', 'major': 'computer', 'completionDate': '2019'},\n",
       "  'salary': '2000'}]"
      ]
     },
     "execution_count": 1,
     "metadata": {},
     "output_type": "execute_result"
    }
   ],
   "source": [
    "userDetail = {\n",
    "    \"name\" : '',\n",
    "     \"age\"  : '',\n",
    "     \"work\" : '',\n",
    "     \"skills\" : '' ,\n",
    "     \"degree\" : {\"title\" : '', \"major\" : '', \"completionDate\" : ''},\n",
    "     \"salary\" : ''\n",
    "}\n",
    "## geting inputs\n",
    "userDetail['name'] = input(\"Enter Your Name \")\n",
    "userDetail['age'] = input(\"Enter Your Age \")\n",
    "userDetail['work'] = input(\"Enter Your Work \" )\n",
    "skills  = input(\"Enter Your Skilss separted by comma \")\n",
    "skills = skills.split(', ')\n",
    "userDetail['skills'] = skills\n",
    "userDetail['degree'][\"title\"] = input(\"Enter Your Degree Title \")\n",
    "userDetail['degree'][\"major\"] = input(\"Enter Your Degree Major \")\n",
    "userDetail['degree'][\"completionDate\"] = input(\"Enter Your Degree comletion Date \")\n",
    "userDetail['salary'] = input(\"Enter Your Salary \")\n",
    "## pushing in array\n",
    "usersDetails = [ ]\n",
    "usersDetails.insert(1,userDetail)\n",
    "# ##priniting array\n",
    "usersDetails"
   ]
  },
  {
   "cell_type": "markdown",
   "metadata": {},
   "source": [
    "## Task 2\n",
    "### Tables from inputs\n",
    "#### First Way"
   ]
  },
  {
   "cell_type": "code",
   "execution_count": 38,
   "metadata": {},
   "outputs": [
    {
     "name": "stdout",
     "output_type": "stream",
     "text": [
      "Enter value from which we start the tables 4\n",
      "Enter value from which we start the tables 6\n",
      "\t\n",
      "4  *  1 =  4\n",
      "4  *  2 =  8\n",
      "4  *  3 =  12\n",
      "4  *  4 =  16\n",
      "4  *  5 =  20\n",
      "4  *  6 =  24\n",
      "4  *  7 =  28\n",
      "4  *  8 =  32\n",
      "4  *  9 =  36\n",
      "4  *  10 =  40\n",
      "\t\n",
      "5  *  1 =  5\n",
      "5  *  2 =  10\n",
      "5  *  3 =  15\n",
      "5  *  4 =  20\n",
      "5  *  5 =  25\n",
      "5  *  6 =  30\n",
      "5  *  7 =  35\n",
      "5  *  8 =  40\n",
      "5  *  9 =  45\n",
      "5  *  10 =  50\n",
      "\t\n",
      "6  *  1 =  6\n",
      "6  *  2 =  12\n",
      "6  *  3 =  18\n",
      "6  *  4 =  24\n",
      "6  *  5 =  30\n",
      "6  *  6 =  36\n",
      "6  *  7 =  42\n",
      "6  *  8 =  48\n",
      "6  *  9 =  54\n",
      "6  *  10 =  60\n"
     ]
    }
   ],
   "source": [
    "# table\n",
    "tableValueStart = int(input(\"Enter value from which we start the tables \"))\n",
    "tableValueFinish = int(input(\"Enter value from which we start the tables \"))\n",
    "for i in range(tableValueStart,tableValueFinish + 1):\n",
    "    print(\"\\n\") \n",
    "    for j in range(1,11):\n",
    "        result = (i * j)\n",
    "        print(f\"{i}  *  {j} =  {result}\")"
   ]
  },
  {
   "cell_type": "markdown",
   "metadata": {},
   "source": [
    "### Second Way\n"
   ]
  },
  {
   "cell_type": "code",
   "execution_count": 11,
   "metadata": {},
   "outputs": [
    {
     "name": "stdout",
     "output_type": "stream",
     "text": [
      "Enter value from which we start the tables 3\n",
      "Enter value from which we start the tables 5\n",
      "1  *  3 =  3\t1  *  4 =  4\t1  *  5 =  5\t\n",
      "2  *  3 =  6\t2  *  4 =  8\t2  *  5 =  10\t\n",
      "3  *  3 =  9\t3  *  4 =  12\t3  *  5 =  15\t\n",
      "4  *  3 =  12\t4  *  4 =  16\t4  *  5 =  20\t\n",
      "5  *  3 =  15\t5  *  4 =  20\t5  *  5 =  25\t\n",
      "6  *  3 =  18\t6  *  4 =  24\t6  *  5 =  30\t\n",
      "7  *  3 =  21\t7  *  4 =  28\t7  *  5 =  35\t\n",
      "8  *  3 =  24\t8  *  4 =  32\t8  *  5 =  40\t\n",
      "9  *  3 =  27\t9  *  4 =  36\t9  *  5 =  45\t\n",
      "10  *  3 =  30\t10  *  4 =  40\t10  *  5 =  50\t\n"
     ]
    }
   ],
   "source": [
    "# table\n",
    "tableValueStart = int(input(\"Enter value from which we start the tables \"))\n",
    "tableValueFinish = int(input(\"Enter value from which we start the tables \"))\n",
    "for i in range(1,11):\n",
    "    for j in range(tableValueStart,tableValueFinish + 1):\n",
    "           print(f\"{i}  *  {j} =  {i * j}\", end=\"\\t\")\n",
    "    print()\n",
    "\n"
   ]
  },
  {
   "cell_type": "code",
   "execution_count": null,
   "metadata": {},
   "outputs": [],
   "source": []
  }
 ],
 "metadata": {
  "kernelspec": {
   "display_name": "Python 3",
   "language": "python",
   "name": "python3"
  },
  "language_info": {
   "codemirror_mode": {
    "name": "ipython",
    "version": 3
   },
   "file_extension": ".py",
   "mimetype": "text/x-python",
   "name": "python",
   "nbconvert_exporter": "python",
   "pygments_lexer": "ipython3",
   "version": "3.7.4"
  }
 },
 "nbformat": 4,
 "nbformat_minor": 2
}
