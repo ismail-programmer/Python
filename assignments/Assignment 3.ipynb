{
 "cells": [
  {
   "cell_type": "markdown",
   "metadata": {},
   "source": [
    "# 1. Indexing"
   ]
  },
  {
   "cell_type": "markdown",
   "metadata": {},
   "source": [
    "## First one \n"
   ]
  },
  {
   "cell_type": "code",
   "execution_count": 16,
   "metadata": {},
   "outputs": [],
   "source": [
    "employee_data = ['Ismail', 125000, 'Google', 5]\n",
    "display = '{} is working in {} for {} years and his salary is {}'\n",
    "afterFormation = display.format(employee_data[0],employee_data[2],employee_data[3],employee_data[1])\n"
   ]
  },
  {
   "cell_type": "markdown",
   "metadata": {},
   "source": [
    "## solution:-"
   ]
  },
  {
   "cell_type": "code",
   "execution_count": 17,
   "metadata": {},
   "outputs": [
    {
     "name": "stdout",
     "output_type": "stream",
     "text": [
      "Ismail is working in Google for 5 years and his salary is 125000\n"
     ]
    }
   ],
   "source": [
    "print(afterFormation)"
   ]
  },
  {
   "cell_type": "markdown",
   "metadata": {},
   "source": [
    "## Second one "
   ]
  },
  {
   "cell_type": "code",
   "execution_count": 26,
   "metadata": {},
   "outputs": [],
   "source": [
    "studentData = ['Ahmed', 'Bilal', 'Government College University', 'Computer Science', 'BS', 50000,'28 Januray 2020', '05 February 2020']\n",
    "display = '''Hello {first} {last},\n",
    "Your application is accepted for admission in {degree} {subject} in {uni}.\n",
    "You have to submit fee {fee} before {validDate}.\n",
    "Your classes will start from {classDate}.\n",
    "Thanks'''\n",
    "afterFormation = display.format(first = studentData[0], last = studentData[1] , degree = studentData[4],  subject = studentData[3],  uni = studentData[2],  validDate = studentData[6] ,  classDate = studentData[7], fee = studentData[5]  )"
   ]
  },
  {
   "cell_type": "markdown",
   "metadata": {},
   "source": [
    "# solution:-"
   ]
  },
  {
   "cell_type": "code",
   "execution_count": 27,
   "metadata": {},
   "outputs": [
    {
     "name": "stdout",
     "output_type": "stream",
     "text": [
      "Hello Ahmed Bilal,\n",
      "Your application is accepted for admission in BS Computer Science in Government College University.\n",
      "You have to submit fee 50000 before 28 Januray 2020.\n",
      "Your classes will start from 05 February 2020.\n",
      "Thanks\n"
     ]
    }
   ],
   "source": [
    "print(afterFormation)"
   ]
  },
  {
   "cell_type": "markdown",
   "metadata": {},
   "source": [
    "# 2. Slicing"
   ]
  },
  {
   "cell_type": "code",
   "execution_count": 28,
   "metadata": {},
   "outputs": [],
   "source": [
    "cities = [\"Faisalabad\", \"Lahore\", \"Islamabad\", \"Peshawar\", \"Quetta\", \"Sahiwal\", \"Rawalpindi\", \"Sialkot\"]"
   ]
  },
  {
   "cell_type": "markdown",
   "metadata": {},
   "source": [
    "## Possitive Slicing"
   ]
  },
  {
   "cell_type": "code",
   "execution_count": 42,
   "metadata": {},
   "outputs": [],
   "source": [
    "p1 = cities[0:4]\n",
    "p2 = cities[2: 6]\n",
    "p3 = cities[5:]"
   ]
  },
  {
   "cell_type": "markdown",
   "metadata": {},
   "source": [
    "## solution:-"
   ]
  },
  {
   "cell_type": "code",
   "execution_count": 45,
   "metadata": {},
   "outputs": [
    {
     "name": "stdout",
     "output_type": "stream",
     "text": [
      "['Faisalabad', 'Lahore', 'Islamabad', 'Peshawar']\n",
      "['Islamabad', 'Peshawar', 'Quetta', 'Sahiwal']\n",
      "['Sahiwal', 'Rawalpindi', 'Sialkot']\n"
     ]
    }
   ],
   "source": [
    "print(p1)\n",
    "print(p2)\n",
    "print(p3)"
   ]
  },
  {
   "cell_type": "markdown",
   "metadata": {},
   "source": [
    "## Negative slicing"
   ]
  },
  {
   "cell_type": "code",
   "execution_count": 53,
   "metadata": {},
   "outputs": [
    {
     "name": "stdout",
     "output_type": "stream",
     "text": [
      "['Peshawar', 'Quetta', 'Sahiwal', 'Rawalpindi', 'Sialkot']\n"
     ]
    }
   ],
   "source": [
    "n1 = cities[-4:7]\n",
    "n2 = cities[-5: ]"
   ]
  },
  {
   "cell_type": "markdown",
   "metadata": {},
   "source": [
    "## solution:-"
   ]
  },
  {
   "cell_type": "code",
   "execution_count": 54,
   "metadata": {},
   "outputs": [
    {
     "name": "stdout",
     "output_type": "stream",
     "text": [
      "['Quetta', 'Sahiwal', 'Rawalpindi']\n",
      "['Peshawar', 'Quetta', 'Sahiwal', 'Rawalpindi', 'Sialkot']\n"
     ]
    }
   ],
   "source": [
    "print(n1)\n",
    "print(n2)"
   ]
  },
  {
   "cell_type": "markdown",
   "metadata": {},
   "source": [
    "# 3.Updating Lsits"
   ]
  },
  {
   "cell_type": "code",
   "execution_count": 66,
   "metadata": {},
   "outputs": [],
   "source": [
    "studentData = [\"Ali Raza\", 22, 91.24, \"Computer Science\", 5, \"University of Agriculture\"]"
   ]
  },
  {
   "cell_type": "code",
   "execution_count": null,
   "metadata": {},
   "outputs": [],
   "source": [
    "## Apend method"
   ]
  },
  {
   "cell_type": "code",
   "execution_count": 67,
   "metadata": {},
   "outputs": [],
   "source": [
    "studentData.append('20 February 2019')\n",
    "studentData.append(8)"
   ]
  },
  {
   "cell_type": "code",
   "execution_count": 68,
   "metadata": {},
   "outputs": [
    {
     "name": "stdout",
     "output_type": "stream",
     "text": [
      "['Ali Raza', 22, 91.24, 'Computer Science', 5, 'University of Agriculture', '20 February 2019', 8]\n"
     ]
    }
   ],
   "source": [
    "print(studentData)"
   ]
  },
  {
   "cell_type": "code",
   "execution_count": 69,
   "metadata": {},
   "outputs": [],
   "source": [
    "## insert method\n",
    "studentData.insert(4, 25000)\n",
    "studentData.insert(1,'M. Iqbal')"
   ]
  },
  {
   "cell_type": "code",
   "execution_count": 70,
   "metadata": {},
   "outputs": [
    {
     "name": "stdout",
     "output_type": "stream",
     "text": [
      "['Ali Raza', 'M. Iqbal', 22, 91.24, 'Computer Science', 25000, 5, 'University of Agriculture', '20 February 2019', 8]\n"
     ]
    }
   ],
   "source": [
    "print(studentData)"
   ]
  },
  {
   "cell_type": "code",
   "execution_count": 71,
   "metadata": {},
   "outputs": [],
   "source": [
    "## replacing\n",
    "studentData[0] = 'Zohaib Ali'\n",
    "studentData[6] = 7"
   ]
  },
  {
   "cell_type": "code",
   "execution_count": 72,
   "metadata": {},
   "outputs": [
    {
     "name": "stdout",
     "output_type": "stream",
     "text": [
      "['Zohaib Ali', 'M. Iqbal', 22, 91.24, 'Computer Science', 25000, 7, 'University of Agriculture', '20 February 2019', 8]\n"
     ]
    }
   ],
   "source": [
    "print(studentData)"
   ]
  },
  {
   "cell_type": "code",
   "execution_count": 73,
   "metadata": {},
   "outputs": [],
   "source": [
    "## remove method\n",
    "studentData.remove('Computer Science')\n",
    "studentData.remove(91.24)"
   ]
  },
  {
   "cell_type": "code",
   "execution_count": 74,
   "metadata": {},
   "outputs": [
    {
     "name": "stdout",
     "output_type": "stream",
     "text": [
      "['Zohaib Ali', 'M. Iqbal', 22, 25000, 7, 'University of Agriculture', '20 February 2019', 8]\n"
     ]
    }
   ],
   "source": [
    "print(studentData)"
   ]
  },
  {
   "cell_type": "code",
   "execution_count": 75,
   "metadata": {},
   "outputs": [
    {
     "data": {
      "text/plain": [
       "8"
      ]
     },
     "execution_count": 75,
     "metadata": {},
     "output_type": "execute_result"
    }
   ],
   "source": [
    "## pop method\n",
    "studentData.pop()"
   ]
  },
  {
   "cell_type": "code",
   "execution_count": 76,
   "metadata": {},
   "outputs": [
    {
     "data": {
      "text/plain": [
       "25000"
      ]
     },
     "execution_count": 76,
     "metadata": {},
     "output_type": "execute_result"
    }
   ],
   "source": [
    "studentData.pop(3)"
   ]
  },
  {
   "cell_type": "code",
   "execution_count": 77,
   "metadata": {},
   "outputs": [
    {
     "name": "stdout",
     "output_type": "stream",
     "text": [
      "['Zohaib Ali', 'M. Iqbal', 22, 7, 'University of Agriculture', '20 February 2019']\n"
     ]
    }
   ],
   "source": [
    "print(studentData)"
   ]
  },
  {
   "cell_type": "markdown",
   "metadata": {},
   "source": [
    "# 4. Multidimensional list tasks"
   ]
  },
  {
   "cell_type": "code",
   "execution_count": 78,
   "metadata": {},
   "outputs": [],
   "source": [
    "## data\n",
    "employeeData = [[\"Ali\", 35000, \"Software Engineer\"],\n",
    "\t\t\t\t[\"Talha\", 55000, \"Product Manager\"],\n",
    "\t\t\t\t[\"Nasir\", 79000, \"Computer Engineer\"],\n",
    "\t\t\t\t[\"Khalid\", 44000, \"DBA\"]]"
   ]
  },
  {
   "cell_type": "code",
   "execution_count": 85,
   "metadata": {},
   "outputs": [
    {
     "name": "stdout",
     "output_type": "stream",
     "text": [
      "Talha\n",
      "Nasir\n"
     ]
    }
   ],
   "source": [
    "## for loop\n",
    "### tasks1\n",
    "#### point 1\n",
    "for i in employeeData:\n",
    "    salary = i[1]\n",
    "    if salary > 50000:\n",
    "            print(i[0])"
   ]
  },
  {
   "cell_type": "code",
   "execution_count": 87,
   "metadata": {},
   "outputs": [],
   "source": [
    "#### point 2 \n",
    "totalSalary = 0\n",
    "for i in employeeData:\n",
    "    salary = i[1]\n",
    "    totalSalary += salary"
   ]
  },
  {
   "cell_type": "code",
   "execution_count": 88,
   "metadata": {},
   "outputs": [
    {
     "name": "stdout",
     "output_type": "stream",
     "text": [
      "213000\n"
     ]
    }
   ],
   "source": [
    "print(totalSalary)"
   ]
  },
  {
   "cell_type": "code",
   "execution_count": 102,
   "metadata": {},
   "outputs": [],
   "source": [
    "## tasks2 (   List update  )\n",
    "for i in employeeData:\n",
    "    if i[0] == 'Nasir':\n",
    "        i[1] = 90000\n",
    "        i[2] = \"Product Manager\"\n",
    "        \n",
    "    elif i[0] == \"Khalid\":\n",
    "        i[1] = 50000"
   ]
  },
  {
   "cell_type": "code",
   "execution_count": 103,
   "metadata": {},
   "outputs": [
    {
     "name": "stdout",
     "output_type": "stream",
     "text": [
      "[['Ali', 35000, 'Software Engineer'], ['Talha', 55000, 'Product Manager'], ['Nasir', 90000, 'Product Manager'], ['Khalid', 50000, 'DBA']]\n"
     ]
    }
   ],
   "source": [
    "print(employeeData)"
   ]
  },
  {
   "cell_type": "markdown",
   "metadata": {},
   "source": [
    "# 5. Login User"
   ]
  },
  {
   "cell_type": "code",
   "execution_count": 112,
   "metadata": {},
   "outputs": [],
   "source": [
    "## Data 1\n",
    "username = \"faizan1214\"\n",
    "password = \"qwerty\"\n",
    "emailVerified = False"
   ]
  },
  {
   "cell_type": "code",
   "execution_count": 113,
   "metadata": {},
   "outputs": [
    {
     "name": "stdout",
     "output_type": "stream",
     "text": [
      "Email not verified\n"
     ]
    }
   ],
   "source": [
    "if username == 'faizan1214':\n",
    "    if password == 'qwerty':\n",
    "        if emailVerified == True:\n",
    "            print(\"Login Succeed\")\n",
    "        else:\n",
    "            print(\"Email not verified\")\n",
    "    else:\n",
    "        print(\"Incorrect Login details\")\n",
    "else:\n",
    "    print(\"Incorrect Login details\")\n",
    "    \n",
    "    "
   ]
  },
  {
   "cell_type": "code",
   "execution_count": 114,
   "metadata": {},
   "outputs": [],
   "source": [
    "# Data 2\n",
    "username = \"faizan1214\"\n",
    "password = \"qwerty\"\n",
    "emailVerified = True"
   ]
  },
  {
   "cell_type": "code",
   "execution_count": 115,
   "metadata": {},
   "outputs": [
    {
     "name": "stdout",
     "output_type": "stream",
     "text": [
      "Login Succeed\n"
     ]
    }
   ],
   "source": [
    "if username == 'faizan1214':\n",
    "    if password == 'qwerty':\n",
    "        if emailVerified == True:\n",
    "            print(\"Login Succeed\")\n",
    "        else:\n",
    "            print(\"Email not verified\")\n",
    "    else:\n",
    "        print(\"Incorrect Login details\")\n",
    "else:\n",
    "    print(\"Incorrect Login details\")\n",
    "    \n",
    "    "
   ]
  },
  {
   "cell_type": "markdown",
   "metadata": {},
   "source": [
    "# All done by Muhammad Ismail"
   ]
  }
 ],
 "metadata": {
  "kernelspec": {
   "display_name": "Python 3",
   "language": "python",
   "name": "python3"
  },
  "language_info": {
   "codemirror_mode": {
    "name": "ipython",
    "version": 3
   },
   "file_extension": ".py",
   "mimetype": "text/x-python",
   "name": "python",
   "nbconvert_exporter": "python",
   "pygments_lexer": "ipython3",
   "version": "3.7.4"
  }
 },
 "nbformat": 4,
 "nbformat_minor": 2
}
