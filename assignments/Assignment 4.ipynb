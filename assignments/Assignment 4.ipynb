{
 "cells": [
  {
   "cell_type": "markdown",
   "metadata": {},
   "source": [
    "##  Task\n",
    "### Playing with Dictionary"
   ]
  },
  {
   "cell_type": "code",
   "execution_count": 24,
   "metadata": {},
   "outputs": [
    {
     "name": "stdout",
     "output_type": "stream",
     "text": [
      "Enter Your Name ali\n",
      "Enter Your Age 21\n",
      "Enter Your Work dr\n",
      "Enter Your Skilss separted by comma medical,brain\n",
      "Enter Your Degree Title mbbs\n",
      "Enter Your Degree Major medical\n",
      "Enter Your Degree comletion Date 2018\n",
      "Enter Your Salary 2000011\n"
     ]
    },
    {
     "data": {
      "text/plain": [
       "[{'name': 'ali',\n",
       "  'age': '21',\n",
       "  'work': 'dr',\n",
       "  'skills': 'medical,brain',\n",
       "  'degree': {'title': 'mbbs', 'major': 'medical', 'completionDate': '2018'},\n",
       "  'salary': '2000011'}]"
      ]
     },
     "execution_count": 24,
     "metadata": {},
     "output_type": "execute_result"
    }
   ],
   "source": [
    "userDetail = {\n",
    "    \"name\" : '',\n",
    "     \"age\"  : '',\n",
    "     \"work\" : '',\n",
    "     \"skills\" : '' ,\n",
    "     \"degree\" : {\"title\" : '', \"major\" : '', \"completionDate\" : ''},\n",
    "     \"salary\" : ''\n",
    "}\n",
    "## geting inputs\n",
    "userDetail['name'] = input(\"Enter Your Name \")\n",
    "userDetail['age'] = input(\"Enter Your Age \")\n",
    "userDetail['work'] = input(\"Enter Your Work \" )\n",
    "skills  = input(\"Enter Your Skilss separted by comma \")\n",
    "skills.split(', ')\n",
    "userDetail['skills'] = skills\n",
    "userDetail['degree'][\"title\"] = input(\"Enter Your Degree Title \")\n",
    "userDetail['degree'][\"major\"] = input(\"Enter Your Degree Major \")\n",
    "userDetail['degree'][\"completionDate\"] = input(\"Enter Your Degree comletion Date \")\n",
    "userDetail['salary'] = input(\"Enter Your Salary \")\n",
    "## pushing in array\n",
    "usersDetails = [ ]\n",
    "usersDetails.insert(1,userDetail)\n",
    "# ##priniting array\n",
    "usersDetails"
   ]
  },
  {
   "cell_type": "markdown",
   "metadata": {},
   "source": [
    "## Task 2\n",
    "### Tables from inputs\n",
    "#### First Way"
   ]
  },
  {
   "cell_type": "code",
   "execution_count": 38,
   "metadata": {},
   "outputs": [
    {
     "name": "stdout",
     "output_type": "stream",
     "text": [
      "Enter value from which we start the tables 4\n",
      "Enter value from which we start the tables 6\n",
      "\t\n",
      "4  *  1 =  4\n",
      "4  *  2 =  8\n",
      "4  *  3 =  12\n",
      "4  *  4 =  16\n",
      "4  *  5 =  20\n",
      "4  *  6 =  24\n",
      "4  *  7 =  28\n",
      "4  *  8 =  32\n",
      "4  *  9 =  36\n",
      "4  *  10 =  40\n",
      "\t\n",
      "5  *  1 =  5\n",
      "5  *  2 =  10\n",
      "5  *  3 =  15\n",
      "5  *  4 =  20\n",
      "5  *  5 =  25\n",
      "5  *  6 =  30\n",
      "5  *  7 =  35\n",
      "5  *  8 =  40\n",
      "5  *  9 =  45\n",
      "5  *  10 =  50\n",
      "\t\n",
      "6  *  1 =  6\n",
      "6  *  2 =  12\n",
      "6  *  3 =  18\n",
      "6  *  4 =  24\n",
      "6  *  5 =  30\n",
      "6  *  6 =  36\n",
      "6  *  7 =  42\n",
      "6  *  8 =  48\n",
      "6  *  9 =  54\n",
      "6  *  10 =  60\n"
     ]
    }
   ],
   "source": [
    "# table\n",
    "tableValueStart = int(input(\"Enter value from which we start the tables \"))\n",
    "tableValueFinish = int(input(\"Enter value from which we start the tables \"))\n",
    "for i in range(tableValueStart,tableValueFinish + 1):\n",
    "    print(\"\\n\") \n",
    "    for j in range(1,11):\n",
    "        result = (i * j)\n",
    "        print(f\"{i}  *  {j} =  {result}\")"
   ]
  },
  {
   "cell_type": "code",
   "execution_count": null,
   "metadata": {},
   "outputs": [],
   "source": [
    "\n"
   ]
  },
  {
   "cell_type": "code",
   "execution_count": null,
   "metadata": {},
   "outputs": [],
   "source": []
  },
  {
   "cell_type": "code",
   "execution_count": null,
   "metadata": {},
   "outputs": [],
   "source": []
  }
 ],
 "metadata": {
  "kernelspec": {
   "display_name": "Python 3",
   "language": "python",
   "name": "python3"
  },
  "language_info": {
   "codemirror_mode": {
    "name": "ipython",
    "version": 3
   },
   "file_extension": ".py",
   "mimetype": "text/x-python",
   "name": "python",
   "nbconvert_exporter": "python",
   "pygments_lexer": "ipython3",
   "version": "3.7.4"
  }
 },
 "nbformat": 4,
 "nbformat_minor": 2
}
