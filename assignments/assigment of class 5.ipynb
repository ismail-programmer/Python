{
 "cells": [
  {
   "cell_type": "markdown",
   "metadata": {},
   "source": [
    "# 1. Calculate area of circle."
   ]
  },
  {
   "cell_type": "code",
   "execution_count": 5,
   "metadata": {},
   "outputs": [],
   "source": [
    "# circle formula\n",
    "def calArea(r,pi = 3.14):\n",
    "    pi *= 2\n",
    "    area = pi * r\n",
    "    print(area)"
   ]
  },
  {
   "cell_type": "code",
   "execution_count": 46,
   "metadata": {},
   "outputs": [
    {
     "name": "stdout",
     "output_type": "stream",
     "text": [
      "54.635999999999996\n"
     ]
    }
   ],
   "source": [
    "## first example\n",
    "calArea(8.7)"
   ]
  },
  {
   "cell_type": "code",
   "execution_count": 6,
   "metadata": {},
   "outputs": [
    {
     "name": "stdout",
     "output_type": "stream",
     "text": [
      "57.775999999999996\n"
     ]
    }
   ],
   "source": [
    "## second example\n",
    "calArea(9.2)"
   ]
  },
  {
   "cell_type": "code",
   "execution_count": 7,
   "metadata": {},
   "outputs": [
    {
     "name": "stdout",
     "output_type": "stream",
     "text": [
      "102.364\n"
     ]
    }
   ],
   "source": [
    "## third example\n",
    "calArea(16.3)"
   ]
  },
  {
   "cell_type": "markdown",
   "metadata": {},
   "source": [
    "# 2. Write function to check if a value exists in a list"
   ]
  },
  {
   "cell_type": "code",
   "execution_count": 41,
   "metadata": {},
   "outputs": [],
   "source": [
    "# data = [\"python\", \"r\", \"java\", \"pascal\", \"c\", \"javascript\", \"assembley\", \"html\", \"c++\"]\n",
    "def chkVal(val,data):\n",
    "    data = data\n",
    "    for i in data:\n",
    "        if(val == i):\n",
    "            print(\"exsists\")\n",
    "            break;"
   ]
  },
  {
   "cell_type": "code",
   "execution_count": 25,
   "metadata": {},
   "outputs": [
    {
     "name": "stdout",
     "output_type": "stream",
     "text": [
      "exsists\n"
     ]
    }
   ],
   "source": [
    "chkVal(\"dsds\",[\"dsds\",\"sdfs\"])"
   ]
  },
  {
   "cell_type": "markdown",
   "metadata": {},
   "source": [
    "# 3. Write a function to shift list item to right n times"
   ]
  },
  {
   "cell_type": "code",
   "execution_count": 2,
   "metadata": {},
   "outputs": [],
   "source": [
    "def shift(data,quan):\n",
    "    nValues = data[-quan:]\n",
    "    remData = data[:-quan]\n",
    "    data = nValues + remData\n",
    "    print(data)"
   ]
  },
  {
   "cell_type": "code",
   "execution_count": 37,
   "metadata": {},
   "outputs": [
    {
     "name": "stdout",
     "output_type": "stream",
     "text": [
      "['c++', 'python', 'r', 'java', 'pascal', 'c', 'javascript', 'assembley', 'html']\n"
     ]
    }
   ],
   "source": [
    "# first way with number of 1\n",
    "shift([\"python\", \"r\", \"java\", \"pascal\", \"c\", \"javascript\", \"assembley\", \"html\", \"c++\"],1)"
   ]
  },
  {
   "cell_type": "code",
   "execution_count": 3,
   "metadata": {},
   "outputs": [
    {
     "name": "stdout",
     "output_type": "stream",
     "text": [
      "['assembley', 'html', 'c++', 'python', 'r', 'java', 'pascal', 'c', 'javascript']\n"
     ]
    }
   ],
   "source": [
    "# second way with number of 3\n",
    "shift([\"python\", \"r\", \"java\", \"pascal\", \"c\", \"javascript\", \"assembley\", \"html\", \"c++\"],3)"
   ]
  },
  {
   "cell_type": "markdown",
   "metadata": {},
   "source": [
    "# 4. Use while loop to get data"
   ]
  },
  {
   "cell_type": "code",
   "execution_count": 6,
   "metadata": {},
   "outputs": [
    {
     "name": "stdout",
     "output_type": "stream",
     "text": [
      "enter radius3\n",
      "18.84\n",
      "Do you wana continue? Just Yes or No! yes\n",
      "enter radius92\n",
      "577.76\n",
      "Do you wana continue? Just Yes or No! quit\n"
     ]
    }
   ],
   "source": [
    "validationMessage = ''\n",
    "while validationMessage != 'quit':\n",
    "    r = int(input(\"enter radius\"))\n",
    "    calArea(r)\n",
    "    validationMessage = input(\"Do you wana continue? Just Yes or No! \")"
   ]
  },
  {
   "cell_type": "markdown",
   "metadata": {},
   "source": [
    "# 5. Function with **kwargs:"
   ]
  },
  {
   "cell_type": "code",
   "execution_count": 61,
   "metadata": {},
   "outputs": [],
   "source": [
    "def showDetails(name,class1,marks,date,nextClass):\n",
    "    return\"\"\"\n",
    "Hello {name}\n",
    "Here is your result for class of {class1}.\n",
    "Your score card is as follows.\n",
    "ClassMarks:\n",
    "    math : {marks.[0]}\n",
    "    physics : {marks[1]}\n",
    "    biology : {marks[2]}\n",
    "    computer : {marks[3]}\n",
    "Total marks are: {marks.math}\n",
    "Percentage is as follows: 3%\n",
    "Maximum marks are in \"Biology\"\n",
    "Minimum marks are in \"Math\"\n",
    "You are promoted to next class.\"\"\".format(name,class1,marks,date,nextClass)\n",
    "    "
   ]
  },
  {
   "cell_type": "code",
   "execution_count": 65,
   "metadata": {},
   "outputs": [
    {
     "ename": "SyntaxError",
     "evalue": "invalid syntax (<ipython-input-65-6f6a75c2b802>, line 1)",
     "output_type": "error",
     "traceback": [
      "\u001b[1;36m  File \u001b[1;32m\"<ipython-input-65-6f6a75c2b802>\"\u001b[1;36m, line \u001b[1;32m1\u001b[0m\n\u001b[1;33m    showDetails({name = \"Ali\", class1 = \"AI\", marks = {\"math\" : 50, \"physics\" : 80, \"biology\" : 90, \"computer\" : 67}, date = \"1 Feb 2020\", nextClass = true})\u001b[0m\n\u001b[1;37m                      ^\u001b[0m\n\u001b[1;31mSyntaxError\u001b[0m\u001b[1;31m:\u001b[0m invalid syntax\n"
     ]
    }
   ],
   "source": [
    "showDetails({name = \"Ali\", class1 = \"AI\", marks = {\"math\" : 50, \"physics\" : 80, \"biology\" : 90, \"computer\" : 67}, date = \"1 Feb 2020\", nextClass = true})"
   ]
  },
  {
   "cell_type": "code",
   "execution_count": null,
   "metadata": {},
   "outputs": [],
   "source": []
  },
  {
   "cell_type": "code",
   "execution_count": null,
   "metadata": {},
   "outputs": [],
   "source": []
  },
  {
   "cell_type": "code",
   "execution_count": null,
   "metadata": {},
   "outputs": [],
   "source": []
  },
  {
   "cell_type": "code",
   "execution_count": null,
   "metadata": {},
   "outputs": [],
   "source": []
  }
 ],
 "metadata": {
  "kernelspec": {
   "display_name": "Python 3",
   "language": "python",
   "name": "python3"
  },
  "language_info": {
   "codemirror_mode": {
    "name": "ipython",
    "version": 3
   },
   "file_extension": ".py",
   "mimetype": "text/x-python",
   "name": "python",
   "nbconvert_exporter": "python",
   "pygments_lexer": "ipython3",
   "version": "3.7.4"
  }
 },
 "nbformat": 4,
 "nbformat_minor": 2
}
